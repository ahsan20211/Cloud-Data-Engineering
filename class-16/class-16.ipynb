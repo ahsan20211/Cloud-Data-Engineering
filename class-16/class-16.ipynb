{
 "cells": [
  {
   "cell_type": "code",
   "execution_count": 3,
   "id": "b8530c52-941c-422f-996e-cb3a1cb26649",
   "metadata": {},
   "outputs": [
    {
     "name": "stdout",
     "output_type": "stream",
     "text": [
      "Average Grade: 84.16666666666667\n",
      "Highest Grade: Eve 95\n",
      "Lowest Grade: Charlie 75\n",
      "Invalid Entries: ['Grace']\n"
     ]
    }
   ],
   "source": [
    "def process_student_records(filename):\n",
    "    valid_grades = {}\n",
    "    invalid_entries = []\n",
    "\n",
    "    with open(filename, 'r') as file:\n",
    "        for line in file:\n",
    "            name, grade = line.strip().split(',')\n",
    "            name = name.strip()\n",
    "            grade = grade.strip()\n",
    "            if grade.isdigit():\n",
    "                valid_grades[name] = int(grade)\n",
    "            else:\n",
    "                invalid_entries.append(name)\n",
    "\n",
    "    avg_grade = sum(valid_grades.values()) / len(valid_grades)\n",
    "    highest = max(valid_grades, key=valid_grades.get)\n",
    "    lowest = min(valid_grades, key=valid_grades.get)\n",
    "\n",
    "    print(\"Average Grade:\", avg_grade)\n",
    "    print(\"Highest Grade:\", highest, valid_grades[highest])\n",
    "    print(\"Lowest Grade:\", lowest, valid_grades[lowest])\n",
    "    print(\"Invalid Entries:\", invalid_entries)\n",
    "\n",
    "process_student_records(\"./data.txt\")"
   ]
  },
  {
   "cell_type": "code",
   "execution_count": 8,
   "id": "ecf0a5e2-b7d8-4626-9505-06ccdd5698a3",
   "metadata": {},
   "outputs": [
    {
     "name": "stdout",
     "output_type": "stream",
     "text": [
      "\n",
      " Car Details\n",
      "Vehicle Info → 2022 Toyota Corolla\n",
      "Type: Car | Doors: 4\n",
      "Toyota Corolla's engine started.\n",
      "Toyota Corolla is accelerating!\n",
      "\n",
      " Truck Details\n",
      "Vehicle Info → 2021 Ford F-150\n",
      "Type: Truck | Cargo Capacity: 5 tons\n",
      "Ford F-150's engine started.\n",
      "Ford F-150 is loading cargo...\n",
      "\n",
      " Motorcycle Details\n",
      "Vehicle Info → 2023 Yamaha R1\n",
      "Type: Motorcycle | Drive Type: Chain Drive\n",
      "Yamaha R1's engine started.\n",
      "Yamaha R1 performs a wheelie!\n"
     ]
    }
   ],
   "source": [
    "\n",
    "class Vehicle:\n",
    "    def __init__(self, make, model, year):\n",
    "        self.make = make\n",
    "        self.model = model\n",
    "        self.year = year\n",
    "\n",
    "    def start_engine(self):\n",
    "        print(f\"{self.make} {self.model}'s engine started.\")\n",
    "\n",
    "    def display_info(self):\n",
    "        print(f\"Vehicle Info → {self.year} {self.make} {self.model}\")\n",
    "\n",
    "\n",
    "class Car(Vehicle):\n",
    "    def __init__(self, make, model, year, num_doors):\n",
    "        super().__init__(make, model, year)\n",
    "        self.num_doors = num_doors\n",
    "\n",
    "    def display_info(self):\n",
    "        super().display_info()\n",
    "        print(f\"Type: Car | Doors: {self.num_doors}\")\n",
    "\n",
    "    def accelerate(self):\n",
    "        print(f\"{self.make} {self.model} is accelerating!\")\n",
    "\n",
    "\n",
    "class Truck(Vehicle):\n",
    "    def __init__(self, make, model, year, cargo_capacity):\n",
    "        super().__init__(make, model, year)\n",
    "        self.cargo_capacity = cargo_capacity\n",
    "\n",
    "    def display_info(self):\n",
    "        super().display_info()\n",
    "        print(f\"Type: Truck | Cargo Capacity: {self.cargo_capacity} tons\")\n",
    "\n",
    "    def load_cargo(self):\n",
    "        print(f\"{self.make} {self.model} is loading cargo...\")\n",
    "\n",
    "\n",
    "class Motorcycle(Vehicle):\n",
    "    def __init__(self, make, model, year, drive_type):\n",
    "        super().__init__(make, model, year)\n",
    "        self.drive_type = drive_type\n",
    "\n",
    "    def display_info(self):\n",
    "        super().display_info()\n",
    "        print(f\"Type: Motorcycle | Drive Type: {self.drive_type}\")\n",
    "\n",
    "    def wheelie(self):\n",
    "        print(f\"{self.make} {self.model} performs a wheelie!\")\n",
    "\n",
    "\n",
    "car = Car(\"Toyota\", \"Corolla\", 2022, 4)\n",
    "truck = Truck(\"Ford\", \"F-150\", 2021, 5)\n",
    "bike = Motorcycle(\"Yamaha\", \"R1\", 2023, \"Chain Drive\")\n",
    "\n",
    "\n",
    "print(\"\\n Car Details\")\n",
    "car.display_info()\n",
    "car.start_engine()\n",
    "car.accelerate()\n",
    "\n",
    "print(\"\\n Truck Details\")\n",
    "truck.display_info()\n",
    "truck.start_engine()\n",
    "truck.load_cargo()\n",
    "\n",
    "print(\"\\n Motorcycle Details\")\n",
    "bike.display_info()\n",
    "bike.start_engine()\n",
    "bike.wheelie()"
   ]
  },
  {
   "cell_type": "code",
   "execution_count": 9,
   "id": "a5ba2d3b-76cd-4b33-873d-d1f4038b2487",
   "metadata": {},
   "outputs": [
    {
     "name": "stdout",
     "output_type": "stream",
     "text": [
      "Total: 15\n",
      "Product: 120\n",
      "Average: 3.0\n"
     ]
    }
   ],
   "source": [
    "def perform_operations(numbers):\n",
    "    total = 0\n",
    "    product = 1\n",
    "\n",
    "    for num in numbers:\n",
    "        total += num        \n",
    "        product *= num      \n",
    "\n",
    "    average = total / len(numbers)\n",
    "    return total, product, average\n",
    "\n",
    "\n",
    "numbers = [1, 2, 3, 4, 5]\n",
    "total, product, average = perform_operations(numbers)\n",
    "\n",
    "print(\"Total:\", total)\n",
    "print(\"Product:\", product)\n",
    "print(\"Average:\", average)"
   ]
  },
  {
   "cell_type": "code",
   "execution_count": null,
   "id": "5da0cb65-c635-4880-8c68-7ff0e47b2f64",
   "metadata": {},
   "outputs": [],
   "source": []
  }
 ],
 "metadata": {
  "kernelspec": {
   "display_name": "Python [conda env:base] *",
   "language": "python",
   "name": "conda-base-py"
  },
  "language_info": {
   "codemirror_mode": {
    "name": "ipython",
    "version": 3
   },
   "file_extension": ".py",
   "mimetype": "text/x-python",
   "name": "python",
   "nbconvert_exporter": "python",
   "pygments_lexer": "ipython3",
   "version": "3.13.5"
  }
 },
 "nbformat": 4,
 "nbformat_minor": 5
}
