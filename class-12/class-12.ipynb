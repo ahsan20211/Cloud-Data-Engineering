{
 "cells": [
  {
   "cell_type": "markdown",
   "id": "5b99b8c2-3039-467e-82af-0c4d501806ce",
   "metadata": {},
   "source": [
    "## oop"
   ]
  },
  {
   "cell_type": "code",
   "execution_count": 8,
   "id": "a0ed194e-150e-43af-ad7d-ae6609fa4c45",
   "metadata": {},
   "outputs": [],
   "source": [
    "class parents():\n",
    "    def __init__(self, eye_color, hairs_color):\n",
    "        self.eye_color = eye_color\n",
    "        self.hairs_color = hairs_color\n",
    "    def can_paint(self):\n",
    "        print(f\"have ability to draw arts\")\n",
    "par_obj = parents(\"hazle\" , \"brown\")"
   ]
  },
  {
   "cell_type": "code",
   "execution_count": 11,
   "id": "fe2ac3a5-4166-4e21-838b-d9fdd8fa2b2c",
   "metadata": {},
   "outputs": [
    {
     "name": "stdout",
     "output_type": "stream",
     "text": [
      "hazle\n",
      "brown\n",
      "have ability to draw arts\n"
     ]
    }
   ],
   "source": [
    "print(par_obj.eye_color)\n",
    "print(par_obj.hairs_color)\n",
    "par_obj.can_paint()"
   ]
  },
  {
   "cell_type": "code",
   "execution_count": 14,
   "id": "1817eb0d-e525-4ca5-9835-aea3a58264c3",
   "metadata": {},
   "outputs": [],
   "source": [
    "class child(parents):\n",
    "    pass\n",
    "child_obj = child(\"brown\" , \"blue\")"
   ]
  },
  {
   "cell_type": "code",
   "execution_count": 16,
   "id": "ffb9fe3a-f854-4b7f-811d-5c81f40fbe50",
   "metadata": {},
   "outputs": [
    {
     "name": "stdout",
     "output_type": "stream",
     "text": [
      "brown\n",
      "blue\n",
      "have ability to draw arts\n"
     ]
    }
   ],
   "source": [
    "print(child_obj.eye_color)\n",
    "print(child_obj.hairs_color)\n",
    "child_obj.can_paint()"
   ]
  },
  {
   "cell_type": "code",
   "execution_count": 24,
   "id": "34a63c45-18df-4c8b-8a58-1bace04c0601",
   "metadata": {},
   "outputs": [],
   "source": [
    "class child(parents):\n",
    "    def __init__(self, skin_color , eye_color ,hairs_color):\n",
    "        super().__init__(hairs_color , eye_color)\n",
    "        self.skin_color = skin_color   \n",
    "    def can_drive(self):\n",
    "        print(f\"have ability to drive arts\")"
   ]
  },
  {
   "cell_type": "code",
   "execution_count": 25,
   "id": "855202e4-e5a7-4019-a611-6a8eb8485f76",
   "metadata": {},
   "outputs": [
    {
     "name": "stdout",
     "output_type": "stream",
     "text": [
      "jamni\n",
      "blue\n",
      "white\n",
      "have ability to drive arts\n"
     ]
    }
   ],
   "source": [
    "child_obj = child(\"white\" , \"blue\",\"jamni\")\n",
    "print(child_obj.eye_color)\n",
    "print(child_obj.hairs_color)\n",
    "print(child_obj.skin_color)\n",
    "\n",
    "child_obj.can_drive()"
   ]
  },
  {
   "cell_type": "code",
   "execution_count": 31,
   "id": "c5e7d4de-65f1-4911-bc08-67846bbe9906",
   "metadata": {},
   "outputs": [],
   "source": [
    "class father():\n",
    "    def __init__(self , hairs_color , eye_color):\n",
    "        self.hairs_color = hairs_color\n",
    "        self.eye_color = eye_color\n",
    "    def can_paint(self):\n",
    "        print(f\"can paint\")\n",
    "        print(f\"can paint\")"
   ]
  },
  {
   "cell_type": "code",
   "execution_count": 32,
   "id": "90a6a1d6-51bb-4a14-bd27-da6867d6e40b",
   "metadata": {},
   "outputs": [],
   "source": [
    "father_obj = father(\"brown\" , \"blue\")"
   ]
  },
  {
   "cell_type": "code",
   "execution_count": 33,
   "id": "7ce46a43-968c-4cc4-8118-96471bb4a104",
   "metadata": {},
   "outputs": [
    {
     "name": "stdout",
     "output_type": "stream",
     "text": [
      "blue\n",
      "brown\n",
      "can paint\n",
      "can paint\n"
     ]
    }
   ],
   "source": [
    "print(father_obj.eye_color)\n",
    "print(father_obj.hairs_color)\n",
    "father_obj.can_paint()"
   ]
  },
  {
   "cell_type": "code",
   "execution_count": 34,
   "id": "107c83ce-e1a7-4470-948f-13ed4130fc2f",
   "metadata": {},
   "outputs": [],
   "source": [
    "class mother():\n",
    "    def __init__(self , can_cook , can_sleep):\n",
    "        self.can_cook = can_cook\n",
    "        self.can_sleep = can_sleep\n",
    "    def house_wife(self):\n",
    "        print(f\"i am a house wife\")\n",
    "mother_obj = mother(\"yes\" , \"no\")"
   ]
  },
  {
   "cell_type": "code",
   "execution_count": 35,
   "id": "7c577925-82b6-4b7e-916b-3e7b31ede889",
   "metadata": {},
   "outputs": [
    {
     "name": "stdout",
     "output_type": "stream",
     "text": [
      "yes\n",
      "no\n",
      "i am a house wife\n"
     ]
    }
   ],
   "source": [
    "print(mother_obj.can_cook)\n",
    "print(mother_obj.can_sleep)\n",
    "mother_obj.house_wife()"
   ]
  },
  {
   "cell_type": "code",
   "execution_count": 38,
   "id": "ea4db847-cf08-45b0-9bd4-36e92be9e69f",
   "metadata": {},
   "outputs": [],
   "source": [
    "class child(father , mother):\n",
    "    def __init__(self, can_sleep , hairs_color , study , can_cook , eye_color):\n",
    "        father.__init__(self,hairs_color ,eye_color )\n",
    "        mother.__init__(self,can_sleep,can_cook)\n",
    "        self.study = study\n",
    "    def can_sing(self):\n",
    "            print(\"child is singing\")    "
   ]
  },
  {
   "cell_type": "code",
   "execution_count": 39,
   "id": "d6b8daf8-14fd-4b16-b8de-c5cbddfe2f43",
   "metadata": {},
   "outputs": [],
   "source": [
    "child_obj = child (\"no\", \"white\",\"python\" , \"no\" , \"Hazle\" )"
   ]
  },
  {
   "cell_type": "code",
   "execution_count": 42,
   "id": "c7b72281-5a14-4a54-9b9f-46480965f6c9",
   "metadata": {},
   "outputs": [
    {
     "name": "stdout",
     "output_type": "stream",
     "text": [
      "no\n",
      "child is singing\n"
     ]
    }
   ],
   "source": [
    "print(child_obj.can_cook)\n",
    "child_obj.can_sing()"
   ]
  },
  {
   "cell_type": "code",
   "execution_count": null,
   "id": "a6bcbd6b-78bd-4ab5-9ea0-f044a808fd4f",
   "metadata": {},
   "outputs": [],
   "source": []
  }
 ],
 "metadata": {
  "kernelspec": {
   "display_name": "Python [conda env:base] *",
   "language": "python",
   "name": "conda-base-py"
  },
  "language_info": {
   "codemirror_mode": {
    "name": "ipython",
    "version": 3
   },
   "file_extension": ".py",
   "mimetype": "text/x-python",
   "name": "python",
   "nbconvert_exporter": "python",
   "pygments_lexer": "ipython3",
   "version": "3.13.5"
  }
 },
 "nbformat": 4,
 "nbformat_minor": 5
}
