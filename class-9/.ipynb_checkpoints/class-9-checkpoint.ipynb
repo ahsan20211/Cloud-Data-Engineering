{
 "cells": [
  {
   "cell_type": "code",
   "execution_count": 7,
   "id": "65e2050d-d760-4219-ba69-cc0810c56ddb",
   "metadata": {},
   "outputs": [],
   "source": [
    "customers = [\n",
    "{\n",
    "\"customer id\": 0,\n",
    "\"first name\":\"John\",\n",
    "\"last name\": \"Ogden\",\n",
    "\"address\": \"301 Arbor Rd.\",\n",
    "},\n",
    "{\n",
    "\"customer id\": 1,\n",
    "\"first name\":\"Ann\",\n",
    "\"last name\": \"Sattermyer\",\n",
    "\"address\": \"PO Box 1145\",\n",
    "},\n",
    "{\n",
    "\"customer id\": 2,\n",
    "\"first name\":\"Jill\",\n",
    "\"last name\": \"Somers\",\n",
    "\"address\": \"3 Main St.\",\n",
    "},\n",
    "]"
   ]
  },
  {
   "cell_type": "code",
   "execution_count": 9,
   "id": "cc44c26b-3d82-40f9-b881-2d3ccd678b64",
   "metadata": {},
   "outputs": [
    {
     "name": "stdout",
     "output_type": "stream",
     "text": [
      "[{'customer id': 0, 'first name': 'John', 'last name': 'Ogden', 'address': '301 Arbor Rd.', 'age': None}, {'customer id': 1, 'first name': 'Ann', 'last name': 'Sattermyer', 'address': 'PO Box 1145', 'age': None}, {'customer id': 2, 'first name': 'Jill', 'last name': 'Somers', 'address': '3 Main St.', 'age': None}]\n"
     ]
    }
   ],
   "source": [
    "for temp in customers:\n",
    "    temp[\"age\"]= None\n",
    "print (customers)"
   ]
  },
  {
   "cell_type": "code",
   "execution_count": 16,
   "id": "9a64b399-89aa-439e-8f23-fd89ea6127df",
   "metadata": {},
   "outputs": [
    {
     "data": {
      "text/plain": [
       "[[0, 'John', 'Ogden', '301 Arbor Rd.', None],\n",
       " [1, 'Ann', 'Sattermyer', 'PO Box 1145', None],\n",
       " [2, 'Jill', 'Somers', '3 Main St.', None]]"
      ]
     },
     "execution_count": 16,
     "metadata": {},
     "output_type": "execute_result"
    }
   ],
   "source": [
    "list_of_list  = []\n",
    "for temp in customers:\n",
    "    list_of_list.append(list(temp.values()))\n",
    "list_of_list"
   ]
  },
  {
   "cell_type": "code",
   "execution_count": 19,
   "id": "69cfc5f5-e08f-40ef-8351-b35a61d587cd",
   "metadata": {},
   "outputs": [
    {
     "data": {
      "text/plain": [
       "{0: {'customer id': 0,\n",
       "  'first name': 'John',\n",
       "  'last name': 'Ogden',\n",
       "  'address': '301 Arbor Rd.',\n",
       "  'age': None},\n",
       " 1: {'customer id': 1,\n",
       "  'first name': 'Ann',\n",
       "  'last name': 'Sattermyer',\n",
       "  'address': 'PO Box 1145',\n",
       "  'age': None},\n",
       " 2: {'customer id': 2,\n",
       "  'first name': 'Jill',\n",
       "  'last name': 'Somers',\n",
       "  'address': '3 Main St.',\n",
       "  'age': None}}"
      ]
     },
     "execution_count": 19,
     "metadata": {},
     "output_type": "execute_result"
    }
   ],
   "source": [
    "dict_of_dict = {}\n",
    "for temp in customers:\n",
    "    dict_of_dict[temp[\"customer id\"]] = temp\n",
    "dict_of_dict\n"
   ]
  },
  {
   "cell_type": "code",
   "execution_count": 25,
   "id": "054b0ede-97e2-4780-b115-10f961cd515d",
   "metadata": {},
   "outputs": [
    {
     "name": "stdin",
     "output_type": "stream",
     "text": [
      "enter height 5.0\n",
      "enter your height 100\n"
     ]
    },
    {
     "data": {
      "text/plain": [
       "0.0005"
      ]
     },
     "execution_count": 25,
     "metadata": {},
     "output_type": "execute_result"
    }
   ],
   "source": [
    "def fn_bmi (weight , height):\n",
    "    bmi = weight/(height**2)\n",
    "    return bmi\n",
    "height= float(input(\"enter height\"))\n",
    "weight = float(input(\"enter your height\")) \n",
    "fn_bmi(height , weight)"
   ]
  },
  {
   "cell_type": "markdown",
   "id": "c7aea781-48a4-4795-b607-eed505fe01a3",
   "metadata": {},
   "source": [
    "def greeting(f_name , place=\"karachi\"):"
   ]
  },
  {
   "cell_type": "code",
   "execution_count": null,
   "id": "1d72013b-6cd3-49e3-a022-01cfbf3c3c0f",
   "metadata": {},
   "outputs": [],
   "source": []
  }
 ],
 "metadata": {
  "kernelspec": {
   "display_name": "Python [conda env:base] *",
   "language": "python",
   "name": "conda-base-py"
  },
  "language_info": {
   "codemirror_mode": {
    "name": "ipython",
    "version": 3
   },
   "file_extension": ".py",
   "mimetype": "text/x-python",
   "name": "python",
   "nbconvert_exporter": "python",
   "pygments_lexer": "ipython3",
   "version": "3.13.5"
  }
 },
 "nbformat": 4,
 "nbformat_minor": 5
}
