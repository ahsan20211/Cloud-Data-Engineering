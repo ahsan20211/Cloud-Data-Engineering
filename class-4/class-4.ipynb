{
 "cells": [
  {
   "cell_type": "code",
   "execution_count": 18,
   "id": "d45aaba1-9118-4691-974a-29cab6480dd4",
   "metadata": {},
   "outputs": [
    {
     "data": {
      "text/plain": [
       "'india'"
      ]
     },
     "execution_count": 18,
     "metadata": {},
     "output_type": "execute_result"
    }
   ],
   "source": [
    "city_0 = \"karachi\"\n",
    "city_1 = \"lahore\"\n",
    "city_2 = \"kpk\"\n",
    "city_3 = \"peshawar\"\n",
    "id(city_1)\n",
    "cities = [\"karachi\" , \"lahore\", \"kpk\" , \"peshawar\"]\n",
    "type(cities)\n",
    "cities.append('india')\n",
    "cities\n",
    "cities.insert(0 ,\"pakistan\")\n",
    "cities.pop(5)"
   ]
  },
  {
   "cell_type": "code",
   "execution_count": 17,
   "id": "d02f83f1-90a4-4dfb-b5cf-f97da4b32991",
   "metadata": {},
   "outputs": [
    {
     "data": {
      "text/plain": [
       "['s',\n",
       " 'peshawar',\n",
       " 'pakistan',\n",
       " 'm',\n",
       " 'lahore',\n",
       " 'l',\n",
       " 'kpk',\n",
       " 'karachi',\n",
       " 'i',\n",
       " 'd',\n",
       " 'b',\n",
       " 'a',\n",
       " 'a',\n",
       " 'a']"
      ]
     },
     "execution_count": 17,
     "metadata": {},
     "output_type": "execute_result"
    }
   ],
   "source": [
    "cities.reverse()\n",
    "cities"
   ]
  },
  {
   "cell_type": "code",
   "execution_count": 16,
   "id": "4f6afabf-6446-4867-8973-ab5edfbb390a",
   "metadata": {},
   "outputs": [
    {
     "data": {
      "text/plain": [
       "['a',\n",
       " 'a',\n",
       " 'a',\n",
       " 'b',\n",
       " 'd',\n",
       " 'i',\n",
       " 'karachi',\n",
       " 'kpk',\n",
       " 'l',\n",
       " 'lahore',\n",
       " 'm',\n",
       " 'pakistan',\n",
       " 'peshawar',\n",
       " 's']"
      ]
     },
     "execution_count": 16,
     "metadata": {},
     "output_type": "execute_result"
    }
   ],
   "source": [
    "cities.sort()\n",
    "cities"
   ]
  },
  {
   "cell_type": "markdown",
   "id": "9a9b73b6-6e9d-4e32-b782-9f4b374d3ee1",
   "metadata": {},
   "source": [
    "SHALLOW/DEEP Copy"
   ]
  },
  {
   "cell_type": "code",
   "execution_count": 21,
   "id": "a3019c91-b60b-456d-81da-fc63eb86b3f1",
   "metadata": {},
   "outputs": [],
   "source": [
    "cities.clear()"
   ]
  },
  {
   "cell_type": "code",
   "execution_count": 22,
   "id": "dcedb601-e4a0-48e6-a70a-1a8310d81d66",
   "metadata": {},
   "outputs": [
    {
     "data": {
      "text/plain": [
       "[]"
      ]
     },
     "execution_count": 22,
     "metadata": {},
     "output_type": "execute_result"
    }
   ],
   "source": [
    "cities"
   ]
  },
  {
   "cell_type": "code",
   "execution_count": 23,
   "id": "35b1d1cf-957c-4ec3-95be-b377fcb5328d",
   "metadata": {},
   "outputs": [],
   "source": [
    "cities = [\"karachi\" , \"lahore\", \"kpk\" , \"peshawar\"]"
   ]
  },
  {
   "cell_type": "code",
   "execution_count": 43,
   "id": "46772d55-8607-4022-9753-601fff74f39d",
   "metadata": {},
   "outputs": [
    {
     "data": {
      "text/plain": [
       "['karachi', 'lahore', 'kpk', 'peshawar']"
      ]
     },
     "execution_count": 43,
     "metadata": {},
     "output_type": "execute_result"
    }
   ],
   "source": [
    "cities"
   ]
  },
  {
   "cell_type": "code",
   "execution_count": null,
   "id": "7422cef6-7d7c-4f1d-b8f5-f416fa8b08ab",
   "metadata": {},
   "outputs": [],
   "source": [
    "cities_new = cities.copy() \n",
    "id(cities_new), id(cities)\n",
    "cities_new = cities.copy() \n"
   ]
  },
  {
   "cell_type": "code",
   "execution_count": 34,
   "id": "8bd4d901-44ce-409e-a102-5a8f07318855",
   "metadata": {},
   "outputs": [
    {
     "data": {
      "text/plain": [
       "['lahore', 'kpk']"
      ]
     },
     "execution_count": 34,
     "metadata": {},
     "output_type": "execute_result"
    }
   ],
   "source": [
    "cities[1:3]"
   ]
  },
  {
   "cell_type": "code",
   "execution_count": 36,
   "id": "397c8c97-7354-4709-9c30-cdca2af52bd4",
   "metadata": {},
   "outputs": [
    {
     "data": {
      "text/plain": [
       "['peshawar', 'kpk', 'lahore', 'karachi']"
      ]
     },
     "execution_count": 36,
     "metadata": {},
     "output_type": "execute_result"
    }
   ],
   "source": [
    "cities[::-1]"
   ]
  },
  {
   "cell_type": "code",
   "execution_count": 37,
   "id": "d975c7c0-a270-4095-a03a-dc7b2d9817ce",
   "metadata": {},
   "outputs": [],
   "source": [
    "student = [\"Ahsan\" , \"hasnain\", \"Hassan\" ,\"Rashid\"]\n",
    "student_new = student.copy()"
   ]
  },
  {
   "cell_type": "code",
   "execution_count": 38,
   "id": "616479e7-7593-417e-bd7e-12070d3e3620",
   "metadata": {},
   "outputs": [
    {
     "data": {
      "text/plain": [
       "(1735921466432, 1735921456320)"
      ]
     },
     "execution_count": 38,
     "metadata": {},
     "output_type": "execute_result"
    }
   ],
   "source": [
    "id(student_new),id(student)"
   ]
  },
  {
   "cell_type": "code",
   "execution_count": 40,
   "id": "e369bcc7-cb25-4ecd-81e3-85354c41502e",
   "metadata": {},
   "outputs": [],
   "source": [
    "student_new.insert(0, \"talha\")"
   ]
  },
  {
   "cell_type": "code",
   "execution_count": 41,
   "id": "819d8e6c-05f4-4702-9fb5-bf4438ea99ee",
   "metadata": {},
   "outputs": [
    {
     "data": {
      "text/plain": [
       "['talha', 'Ahsan', 'hasnain', 'Hassan', 'Rashid']"
      ]
     },
     "execution_count": 41,
     "metadata": {},
     "output_type": "execute_result"
    }
   ],
   "source": [
    "student_new"
   ]
  },
  {
   "cell_type": "code",
   "execution_count": null,
   "id": "30835b92-a08b-47b3-9554-28b208a71774",
   "metadata": {},
   "outputs": [],
   "source": [
    "student_new = student"
   ]
  },
  {
   "cell_type": "code",
   "execution_count": 49,
   "id": "745471e9-d6b4-40a9-8091-7aeee6ac65e5",
   "metadata": {},
   "outputs": [
    {
     "data": {
      "text/plain": [
       "['Ahsan', 'Ahsan', 'rashid']"
      ]
     },
     "execution_count": 49,
     "metadata": {},
     "output_type": "execute_result"
    }
   ],
   "source": [
    "Name_list = [\"Ahsan\", \"Ahsan\" ,\"rashid\"]\n",
    "Name_list"
   ]
  },
  {
   "cell_type": "code",
   "execution_count": 51,
   "id": "bcb848e7-6085-44e1-a055-8c22e7d60005",
   "metadata": {},
   "outputs": [
    {
     "data": {
      "text/plain": [
       "{'Ahsan', 'rashid'}"
      ]
     },
     "execution_count": 51,
     "metadata": {},
     "output_type": "execute_result"
    }
   ],
   "source": [
    "name_set = set(Name_list)\n",
    "name_set"
   ]
  },
  {
   "cell_type": "code",
   "execution_count": 72,
   "id": "d9c36756-1b08-47c2-9d45-840ea0a7394d",
   "metadata": {},
   "outputs": [],
   "source": [
    "student_set = [\"Ahsan\", \"Ahsan\" ,\"rashid\" ,\"Hassan\" ]\n",
    "student_set_one = [\"Ahsan\", \"Talha\" ,\"rashid\", \"jabbar\" ]"
   ]
  },
  {
   "cell_type": "code",
   "execution_count": 74,
   "id": "4916d4bd-0f7a-4078-bc2a-06d825afb823",
   "metadata": {},
   "outputs": [],
   "source": [
    "student_set = set(student_set)\n",
    "student_set_one = set(student_set_one)"
   ]
  },
  {
   "cell_type": "code",
   "execution_count": 75,
   "id": "da7349e6-0265-4236-a0e3-f3b8200cc9e2",
   "metadata": {},
   "outputs": [
    {
     "data": {
      "text/plain": [
       "{'Ahsan', 'rashid'}"
      ]
     },
     "execution_count": 75,
     "metadata": {},
     "output_type": "execute_result"
    }
   ],
   "source": [
    "student_set.intersection(student_set_one)"
   ]
  },
  {
   "cell_type": "code",
   "execution_count": 76,
   "id": "b3e4804c-db5b-4d8a-8154-d186e56ad31c",
   "metadata": {},
   "outputs": [
    {
     "data": {
      "text/plain": [
       "{'Ahsan', 'Hassan', 'Talha', 'jabbar', 'rashid'}"
      ]
     },
     "execution_count": 76,
     "metadata": {},
     "output_type": "execute_result"
    }
   ],
   "source": [
    "student_set.union(student_set_one)"
   ]
  },
  {
   "cell_type": "code",
   "execution_count": 77,
   "id": "5039f9a0-d4bd-4652-a5d4-a06866e1db66",
   "metadata": {},
   "outputs": [
    {
     "data": {
      "text/plain": [
       "{'Hassan'}"
      ]
     },
     "execution_count": 77,
     "metadata": {},
     "output_type": "execute_result"
    }
   ],
   "source": [
    "student_set.difference(student_set_one)\n"
   ]
  },
  {
   "cell_type": "code",
   "execution_count": 78,
   "id": "c89c23dc-775c-400e-baec-ecad4b4dbf55",
   "metadata": {},
   "outputs": [
    {
     "data": {
      "text/plain": [
       "False"
      ]
     },
     "execution_count": 78,
     "metadata": {},
     "output_type": "execute_result"
    }
   ],
   "source": [
    "student_set.issubset(student_set_one)"
   ]
  },
  {
   "cell_type": "code",
   "execution_count": 79,
   "id": "b544f56a-2dc1-4eac-8000-a3f01991b3c0",
   "metadata": {},
   "outputs": [
    {
     "data": {
      "text/plain": [
       "set()"
      ]
     },
     "execution_count": 79,
     "metadata": {},
     "output_type": "execute_result"
    }
   ],
   "source": [
    "student_set_one.difference(student_set_one)"
   ]
  },
  {
   "cell_type": "code",
   "execution_count": null,
   "id": "f848647a-16a1-447d-a54d-ae64ff25856a",
   "metadata": {},
   "outputs": [],
   "source": []
  }
 ],
 "metadata": {
  "kernelspec": {
   "display_name": "Python [conda env:base] *",
   "language": "python",
   "name": "conda-base-py"
  },
  "language_info": {
   "codemirror_mode": {
    "name": "ipython",
    "version": 3
   },
   "file_extension": ".py",
   "mimetype": "text/x-python",
   "name": "python",
   "nbconvert_exporter": "python",
   "pygments_lexer": "ipython3",
   "version": "3.13.5"
  }
 },
 "nbformat": 4,
 "nbformat_minor": 5
}
