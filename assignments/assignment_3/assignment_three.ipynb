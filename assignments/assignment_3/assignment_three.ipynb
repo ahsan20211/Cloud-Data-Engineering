{
 "cells": [
  {
   "cell_type": "code",
   "execution_count": 1,
   "id": "4c029df3-aba8-43cf-b6a2-f1c90f153b1d",
   "metadata": {},
   "outputs": [
    {
     "name": "stdin",
     "output_type": "stream",
     "text": [
      "enter any string:  ahsan\n"
     ]
    },
    {
     "name": "stdout",
     "output_type": "stream",
     "text": [
      "hsana\n"
     ]
    }
   ],
   "source": [
    "text = input(\"enter any string: \")\n",
    "new_text = text[1:] + text[0]\n",
    "print(new_text)"
   ]
  },
  {
   "cell_type": "code",
   "execution_count": 2,
   "id": "6ee629e7-2e96-451f-b624-099ce79f714e",
   "metadata": {},
   "outputs": [
    {
     "name": "stdin",
     "output_type": "stream",
     "text": [
      "enter any string:  saylani\n"
     ]
    },
    {
     "name": "stdout",
     "output_type": "stream",
     "text": [
      "inalyas\n"
     ]
    }
   ],
   "source": [
    "text = input(\"enter any string: \")\n",
    "new_text = text[::-1]\n",
    "print(new_text)"
   ]
  },
  {
   "cell_type": "code",
   "execution_count": 3,
   "id": "e80075c1-847b-4a1d-9a8d-3c827818247c",
   "metadata": {},
   "outputs": [
    {
     "name": "stdin",
     "output_type": "stream",
     "text": [
      "enter any string:  saylani mass it \n"
     ]
    },
    {
     "name": "stdout",
     "output_type": "stream",
     "text": [
      "new string  aylani mass its\n"
     ]
    }
   ],
   "source": [
    "text = input(\"enter any string: \")\n",
    "if len(text) >1:\n",
    "  new_text = text[-1] + text[1:-1] + text[0]\n",
    "else:\n",
    "  new_text = text\n",
    "print(\"new string: \" , new_text)"
   ]
  },
  {
   "cell_type": "code",
   "execution_count": 4,
   "id": "ef8dc429-a9f8-41dc-ba96-7b8ffcb08f37",
   "metadata": {},
   "outputs": [
    {
     "name": "stdin",
     "output_type": "stream",
     "text": [
      "enter any string saylani mega it center 2025\n"
     ]
    },
    {
     "name": "stdout",
     "output_type": "stream",
     "text": [
      "Uppercase letters: 0\n",
      "Lowercase letters: 19\n",
      "Digits: 4\n",
      "Whitespace characters: 4\n"
     ]
    }
   ],
   "source": [
    "string = input(\"enter any string\")\n",
    "upper = 0\n",
    "lower = 0\n",
    "digit = 0\n",
    "space = 0\n",
    "for temp in string:\n",
    "  if temp.isupper():\n",
    "    upper +=1\n",
    "  elif temp.islower():\n",
    "    lower +=1\n",
    "  elif temp.isdigit():\n",
    "    digit +=1\n",
    "  elif temp.isspace():\n",
    "    space +=1\n",
    "print(\"Uppercase letters:\", upper)\n",
    "print(\"Lowercase letters:\", lower)\n",
    "print(\"Digits:\", digit)\n",
    "print(\"Whitespace characters:\", space)"
   ]
  },
  {
   "cell_type": "code",
   "execution_count": 7,
   "id": "fda20e0b-833b-4a61-9c6b-41b4b3bb6a66",
   "metadata": {},
   "outputs": [
    {
     "name": "stdin",
     "output_type": "stream",
     "text": [
      "Enter any string:  pakistan\n"
     ]
    },
    {
     "name": "stdout",
     "output_type": "stream",
     "text": [
      "Total vowels: 3\n"
     ]
    }
   ],
   "source": [
    "string = input(\"Enter any string: \")\n",
    "vowels = \"aeiou\"\n",
    "count = 0\n",
    "\n",
    "for temp in string:\n",
    "    if temp in vowels.lower():\n",
    "        count += 1\n",
    "print(\"Total vowels:\", count)"
   ]
  },
  {
   "cell_type": "code",
   "execution_count": 8,
   "id": "360c10b7-e5de-4ea8-a0fc-31ab63ca942e",
   "metadata": {},
   "outputs": [
    {
     "name": "stdin",
     "output_type": "stream",
     "text": [
      "enter first middle and last name:  saylani mass center\n"
     ]
    },
    {
     "name": "stdout",
     "output_type": "stream",
     "text": [
      "initial  S.M.C.\n"
     ]
    }
   ],
   "source": [
    "text = input(\"enter first middle and last name: \")\n",
    "initial = \" \"\n",
    "initial += text[0].upper() + \".\"\n",
    "for temp in range(1 , len(text)):\n",
    "  if text[temp-1] == \" \":\n",
    "    initial += text[temp].upper() + \".\"\n",
    "print(\"initial\", initial)"
   ]
  },
  {
   "cell_type": "code",
   "execution_count": 9,
   "id": "3bca5e54-5254-4af1-913d-84bf456a39e4",
   "metadata": {},
   "outputs": [
    {
     "name": "stdin",
     "output_type": "stream",
     "text": [
      "enter any string:  dad\n"
     ]
    },
    {
     "name": "stdout",
     "output_type": "stream",
     "text": [
      "it is palindrome\n"
     ]
    }
   ],
   "source": [
    "text = input(\"enter any string: \")\n",
    "if text == text[::-1]:\n",
    "  print(\"it is palindrome\")\n",
    "else:\n",
    "  print(\"not palindrome\")"
   ]
  },
  {
   "cell_type": "code",
   "execution_count": 10,
   "id": "27ef693e-b09e-486a-9f4a-a968bbbc10c9",
   "metadata": {},
   "outputs": [
    {
     "name": "stdin",
     "output_type": "stream",
     "text": [
      "enter any string:  ahsan\n"
     ]
    },
    {
     "name": "stdout",
     "output_type": "stream",
     "text": [
      "ahsan\n",
      "hsana\n",
      "sanah\n",
      "anahs\n",
      "nahsa\n",
      "ahsan\n"
     ]
    }
   ],
   "source": [
    "text = input(\"enter any string: \")\n",
    "for temp in range(len(text)+1):\n",
    "  print(text)\n",
    "  text = text[1:] + text[0]"
   ]
  },
  {
   "cell_type": "code",
   "execution_count": null,
   "id": "5fc6a5a3-9cf3-4506-941e-bc35172f5f9f",
   "metadata": {},
   "outputs": [],
   "source": []
  }
 ],
 "metadata": {
  "kernelspec": {
   "display_name": "Python [conda env:base] *",
   "language": "python",
   "name": "conda-base-py"
  },
  "language_info": {
   "codemirror_mode": {
    "name": "ipython",
    "version": 3
   },
   "file_extension": ".py",
   "mimetype": "text/x-python",
   "name": "python",
   "nbconvert_exporter": "python",
   "pygments_lexer": "ipython3",
   "version": "3.13.5"
  }
 },
 "nbformat": 4,
 "nbformat_minor": 5
}
