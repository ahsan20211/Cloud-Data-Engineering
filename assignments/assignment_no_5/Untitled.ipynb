{
 "cells": [
  {
   "cell_type": "code",
   "execution_count": 1,
   "id": "b284f7be-542c-4f22-a51f-dc872336c899",
   "metadata": {},
   "outputs": [
    {
     "name": "stdout",
     "output_type": "stream",
     "text": [
      "1\n",
      "2\n",
      "3\n",
      "4\n",
      "5\n",
      "6\n",
      "7\n",
      "8\n",
      "9\n",
      "10\n"
     ]
    }
   ],
   "source": [
    "for temp in range(1,11):\n",
    "  print (temp)"
   ]
  },
  {
   "cell_type": "code",
   "execution_count": 2,
   "id": "69e1d2f2-01e8-4d13-b2b1-7f4b9724e4e6",
   "metadata": {},
   "outputs": [
    {
     "name": "stdout",
     "output_type": "stream",
     "text": [
      "20\n",
      "19\n",
      "18\n",
      "17\n",
      "16\n",
      "15\n",
      "14\n",
      "13\n",
      "12\n",
      "11\n",
      "10\n",
      "9\n",
      "8\n",
      "7\n",
      "6\n",
      "5\n",
      "4\n",
      "3\n",
      "2\n",
      "1\n"
     ]
    }
   ],
   "source": [
    "i = 20\n",
    "while i >= 1:\n",
    "  print (i)\n",
    "  i -=1"
   ]
  },
  {
   "cell_type": "code",
   "execution_count": 9,
   "id": "54265068-2b99-406d-8fb2-329cee99a6ab",
   "metadata": {},
   "outputs": [
    {
     "name": "stdin",
     "output_type": "stream",
     "text": [
      "enter any number 5\n"
     ]
    },
    {
     "name": "stdout",
     "output_type": "stream",
     "text": [
      "1\n",
      "2\n",
      "3\n",
      "4\n",
      "5\n"
     ]
    }
   ],
   "source": [
    "number = int(input(\"enter any number\"))\n",
    "for temp in range(1 , number+1):\n",
    "  print(temp)"
   ]
  },
  {
   "cell_type": "code",
   "execution_count": 10,
   "id": "adeda0b1-7973-495b-b680-4cdedc8024c7",
   "metadata": {},
   "outputs": [
    {
     "name": "stdout",
     "output_type": "stream",
     "text": [
      "2\n",
      "4\n",
      "6\n",
      "8\n",
      "10\n"
     ]
    }
   ],
   "source": [
    "even = 10\n",
    "for temp in range(1,even+1):\n",
    "  if temp % 2 == 0:\n",
    "    print(temp)"
   ]
  },
  {
   "cell_type": "code",
   "execution_count": 11,
   "id": "90f9ad39-2aee-4ef6-a7a8-f290eb733c5a",
   "metadata": {},
   "outputs": [
    {
     "name": "stdin",
     "output_type": "stream",
     "text": [
      "enter any number 30\n"
     ]
    },
    {
     "name": "stdout",
     "output_type": "stream",
     "text": [
      "1\n",
      "3\n",
      "5\n",
      "7\n",
      "9\n",
      "11\n",
      "13\n",
      "15\n",
      "17\n",
      "19\n",
      "21\n",
      "23\n",
      "25\n",
      "27\n",
      "29\n"
     ]
    }
   ],
   "source": [
    "odd = int(input(\"enter any number\"))\n",
    "for temp in range (1 , odd+1):\n",
    "  if temp % 2 != 0:\n",
    "    print(temp)"
   ]
  },
  {
   "cell_type": "code",
   "execution_count": 12,
   "id": "b85e62e9-4bc5-4763-908a-a354fe90c698",
   "metadata": {},
   "outputs": [
    {
     "name": "stdout",
     "output_type": "stream",
     "text": [
      "happy birthday\n",
      "happy birthday\n",
      "happy birthday\n",
      "happy birthday\n",
      "happy birthday\n"
     ]
    }
   ],
   "source": [
    "wish = \"happy birthday\"\n",
    "for temp in range(1 ,6):\n",
    "  print(wish)"
   ]
  },
  {
   "cell_type": "code",
   "execution_count": 13,
   "id": "80a953d5-c346-4a3d-a4ca-6e81bf6d0909",
   "metadata": {},
   "outputs": [
    {
     "name": "stdin",
     "output_type": "stream",
     "text": [
      "enter any number 5\n"
     ]
    },
    {
     "name": "stdout",
     "output_type": "stream",
     "text": [
      "1\n",
      "4\n",
      "9\n",
      "16\n",
      "25\n"
     ]
    }
   ],
   "source": [
    "number = int(input(\"enter any number\"))\n",
    "for temp in range(1 , number+1):\n",
    "  print(temp**2)"
   ]
  },
  {
   "cell_type": "code",
   "execution_count": 14,
   "id": "7227ddee-cdff-4196-a47f-ffc3bd0acfaf",
   "metadata": {},
   "outputs": [
    {
     "name": "stdin",
     "output_type": "stream",
     "text": [
      "enter any number 2\n"
     ]
    },
    {
     "name": "stdout",
     "output_type": "stream",
     "text": [
      "2 X 1 = 2\n",
      "2 X 2 = 4\n",
      "2 X 3 = 6\n",
      "2 X 4 = 8\n",
      "2 X 5 = 10\n",
      "2 X 6 = 12\n",
      "2 X 7 = 14\n",
      "2 X 8 = 16\n",
      "2 X 9 = 18\n",
      "2 X 10 = 20\n"
     ]
    }
   ],
   "source": [
    "table = int(input(\"enter any number\"))\n",
    "for temp in range(1 , 11):\n",
    "  print(f\"{table} X {temp} = {table*temp}\")"
   ]
  },
  {
   "cell_type": "code",
   "execution_count": 18,
   "id": "0916fce7-b561-443e-94b6-7f07e47d84d9",
   "metadata": {},
   "outputs": [
    {
     "name": "stdout",
     "output_type": "stream",
     "text": [
      "3\n",
      "7\n",
      "11\n",
      "15\n",
      "19\n",
      "23\n",
      "27\n",
      "31\n"
     ]
    }
   ],
   "source": [
    "a = 3\n",
    "b = 4\n",
    "for temp in range(8):\n",
    "  term = a + temp * b\n",
    "  print (term)"
   ]
  },
  {
   "cell_type": "code",
   "execution_count": 19,
   "id": "a23e1f68-60fb-4d39-8990-b6e6d030aa57",
   "metadata": {},
   "outputs": [
    {
     "name": "stdin",
     "output_type": "stream",
     "text": [
      "enter the number 5\n"
     ]
    },
    {
     "name": "stdout",
     "output_type": "stream",
     "text": [
      "first six number of gm\n",
      "2\n",
      "6\n",
      "18\n",
      "54\n",
      "162\n"
     ]
    }
   ],
   "source": [
    "start = 2\n",
    "diff = 3\n",
    "range_list = int(input(\"enter the number\"))\n",
    "print(\"first six number of gm\")\n",
    "for temp in range(range_list):\n",
    "  term = start * (diff ** temp)\n",
    "  print (term)"
   ]
  },
  {
   "cell_type": "code",
   "execution_count": 21,
   "id": "d9107a55-71e2-4231-bf5c-e6cc560b5ea2",
   "metadata": {},
   "outputs": [
    {
     "name": "stdin",
     "output_type": "stream",
     "text": [
      "enter any number:  3\n"
     ]
    },
    {
     "name": "stdout",
     "output_type": "stream",
     "text": [
      "6\n"
     ]
    }
   ],
   "source": [
    "addition = int(input(\"enter any number: \"))\n",
    "total = 0\n",
    "for temp in range(1 , addition+1):\n",
    "  total +=temp\n",
    "print(total)"
   ]
  },
  {
   "cell_type": "code",
   "execution_count": 23,
   "id": "3f7b68ab-4bb8-4c1a-8301-a3f779d83182",
   "metadata": {},
   "outputs": [
    {
     "name": "stdin",
     "output_type": "stream",
     "text": [
      "enter anu number:  4\n"
     ]
    },
    {
     "name": "stdout",
     "output_type": "stream",
     "text": [
      "2.08\n"
     ]
    }
   ],
   "source": [
    "reciprocal  = int(input(\"enter anu number: \"))\n",
    "total = 0.0\n",
    "for temp in range (1 , reciprocal+1):\n",
    "  total += 1/temp\n",
    "print (f'{total:.2f}')"
   ]
  },
  {
   "cell_type": "code",
   "execution_count": 24,
   "id": "88adc339-bdb3-4014-a25d-3d9efe585b78",
   "metadata": {},
   "outputs": [
    {
     "name": "stdin",
     "output_type": "stream",
     "text": [
      "enter any number:  5\n",
      "enter any number:  5\n",
      "enter any number:  5\n",
      "enter any number:  5\n",
      "enter any number:  5\n"
     ]
    },
    {
     "name": "stdout",
     "output_type": "stream",
     "text": [
      "25\n"
     ]
    }
   ],
   "source": [
    "total = 0\n",
    "for temp in range(5):\n",
    "  num =  int(input(\"enter any number: \"))\n",
    "  total += num\n",
    "print (total)"
   ]
  },
  {
   "cell_type": "code",
   "execution_count": 25,
   "id": "a92ae175-adcd-4dd8-b3c2-541680fa29f1",
   "metadata": {},
   "outputs": [
    {
     "name": "stdin",
     "output_type": "stream",
     "text": [
      "enter any number:  6\n"
     ]
    },
    {
     "name": "stdout",
     "output_type": "stream",
     "text": [
      "720\n"
     ]
    }
   ],
   "source": [
    "num =  int(input(\"enter any number: \"))\n",
    "fact = 1\n",
    "for temp in range(1 , num+1):\n",
    "  fact *=temp \n",
    "print (fact)"
   ]
  },
  {
   "cell_type": "code",
   "execution_count": 26,
   "id": "d5e56ce3-78d7-42f9-a6cf-65b2d6976170",
   "metadata": {},
   "outputs": [
    {
     "name": "stdin",
     "output_type": "stream",
     "text": [
      "enter a base number:  5\n",
      "enter a exponent number:  2\n"
     ]
    },
    {
     "name": "stdout",
     "output_type": "stream",
     "text": [
      "25\n"
     ]
    }
   ],
   "source": [
    "base = int(input(\"enter a base number: \"))\n",
    "exponent = int(input(\"enter a exponent number: \"))\n",
    "total = 1\n",
    "if exponent > 0 :\n",
    "  for temp in range(exponent):\n",
    "    total *= base\n",
    "elif exponent < 0:\n",
    "  for temp in range(-exponent):\n",
    "    total *= base\n",
    "else:\n",
    "  total = 1\n",
    "print(total) "
   ]
  },
  {
   "cell_type": "code",
   "execution_count": null,
   "id": "ce9d096b-39cb-4d2b-9105-0c11fd9a5c7e",
   "metadata": {},
   "outputs": [],
   "source": []
  }
 ],
 "metadata": {
  "kernelspec": {
   "display_name": "Python [conda env:base] *",
   "language": "python",
   "name": "conda-base-py"
  },
  "language_info": {
   "codemirror_mode": {
    "name": "ipython",
    "version": 3
   },
   "file_extension": ".py",
   "mimetype": "text/x-python",
   "name": "python",
   "nbconvert_exporter": "python",
   "pygments_lexer": "ipython3",
   "version": "3.13.5"
  }
 },
 "nbformat": 4,
 "nbformat_minor": 5
}
