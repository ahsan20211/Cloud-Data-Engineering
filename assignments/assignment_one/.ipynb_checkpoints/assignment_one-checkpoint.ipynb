{
 "cells": [
  {
   "cell_type": "markdown",
   "id": "a5bb5459-fbdf-437e-a14f-cd662f4fd9fc",
   "metadata": {},
   "source": [
    "## Print Your Name with your Father name and Date of birth using suitable escape sequence charactor"
   ]
  },
  {
   "cell_type": "code",
   "execution_count": 7,
   "id": "5ed805cf-4ceb-4ea4-aff0-ae97b03a80d2",
   "metadata": {},
   "outputs": [
    {
     "name": "stdout",
     "output_type": "stream",
     "text": [
      "Name:Ahsan Rashid\n",
      "Father's Name: Rashid Usman\n",
      "Date OF birth:16 sep\n"
     ]
    }
   ],
   "source": [
    "print(\"Name:Ahsan Rashid\\nFather's Name: Rashid Usman\\nDate OF birth:16 sep\")"
   ]
  },
  {
   "cell_type": "markdown",
   "id": "e625bdf7-37a2-46d0-ba36-0a26adf05343",
   "metadata": {},
   "source": [
    "## Write your small bio using variables and print it using print function\n"
   ]
  },
  {
   "cell_type": "code",
   "execution_count": 22,
   "id": "095d02cf-4c90-4860-b685-8c3829e13adf",
   "metadata": {},
   "outputs": [
    {
     "name": "stdout",
     "output_type": "stream",
     "text": [
      "My name is Ahsan And my father's Name is Rashid Usman and my education isbachlors\n"
     ]
    }
   ],
   "source": [
    "Name = \"Ahsan\";\n",
    "Father_Name = \"Rashid Usman\"\n",
    "education = \"bachlors\"\n",
    "print(f\"My name is {Name} And my father's Name is {Father_Name} and my education is{education}\")"
   ]
  },
  {
   "cell_type": "markdown",
   "id": "0d4a31e6-84cf-4539-964d-ca06a9d6fae3",
   "metadata": {},
   "source": [
    "## Write a program in which use all the operators we can use in Python"
   ]
  },
  {
   "cell_type": "code",
   "execution_count": 39,
   "id": "629704dc-07f8-4901-bae1-201e3befcfe1",
   "metadata": {},
   "outputs": [
    {
     "name": "stdout",
     "output_type": "stream",
     "text": [
      "addition 15\n",
      "subtraction 5\n",
      "multiplication 50\n",
      "division 2.0\n",
      "is equal: False\n",
      "is not equal: True\n",
      "num1: True\n"
     ]
    }
   ],
   "source": [
    "num1 = 10\n",
    "num2 = 5\n",
    "print(\"addition\" , num1 + num2);\n",
    "print(\"subtraction\",num1 - num2);\n",
    "print(\"multiplication\", num1*num2)\n",
    "print(\"division\", num1/num2)\n",
    "print(\"is equal:\", num1 == num2)\n",
    "print(\"is not equal:\", num1 != num2)\n",
    "print(\"num1 is greater:\", num1 > num2)"
   ]
  },
  {
   "cell_type": "markdown",
   "id": "c6db2822-503a-48a1-a653-d23cc484a2ab",
   "metadata": {},
   "source": [
    "## Completes the following steps of small task: Mention Marks of English , Islamiat and Maths out of 100 in 3 different variables Mention Variable of Total Marks and assign 300 to it Calculate Percentage"
   ]
  },
  {
   "cell_type": "code",
   "execution_count": 46,
   "id": "bcedd79c-8181-48c1-a665-fa7f19a4fdcd",
   "metadata": {},
   "outputs": [
    {
     "name": "stdin",
     "output_type": "stream",
     "text": [
      " 80\n"
     ]
    },
    {
     "data": {
      "text/plain": [
       "73.33333333333333"
      ]
     },
     "execution_count": 46,
     "metadata": {},
     "output_type": "execute_result"
    }
   ],
   "source": [
    "maths = int(input())\n",
    "english = 70\n",
    "islamiyat = 70\n",
    "total_marks = 300\n",
    "percentage = (maths + english + islamiyat)*100/total_marks\n",
    "percentage"
   ]
  },
  {
   "cell_type": "markdown",
   "id": "3b85250a-dd6b-4bca-b1b0-b3b0f925e8d2",
   "metadata": {},
   "source": [
    "## A company decided to give bonus of 5% to employee if his/her year of service is more than 5 years. Ask user for their salary and year of service and print the net bonus amount."
   ]
  },
  {
   "cell_type": "code",
   "execution_count": 54,
   "id": "0dae4d2a-7a42-40b6-83f2-1337ab757b30",
   "metadata": {},
   "outputs": [
    {
     "name": "stdin",
     "output_type": "stream",
     "text": [
      "enter the year of service 3\n",
      "ENTER your salary 500000\n"
     ]
    },
    {
     "name": "stdout",
     "output_type": "stream",
     "text": [
      "500000\n"
     ]
    }
   ],
   "source": [
    "year_of_service = int(input(\"enter the year of service\"))\n",
    "salary =int(input(\"ENTER your salary\"))\n",
    "updated_salary = salary * 0.05\n",
    "if year_of_service > 5:\n",
    "    print (updated_salary)\n",
    "else:\n",
    "    print (salary)\n"
   ]
  },
  {
   "cell_type": "markdown",
   "id": "f88f74b3-b82c-4ac2-bbb7-8eb2641e3d07",
   "metadata": {},
   "source": [
    "## Write a program to check whether a number entered by user is even or odd."
   ]
  },
  {
   "cell_type": "code",
   "execution_count": 57,
   "id": "551745ad-5bec-4314-b387-df4dc35a5bbc",
   "metadata": {},
   "outputs": [
    {
     "name": "stdin",
     "output_type": "stream",
     "text": [
      "enter Your age 8\n"
     ]
    },
    {
     "name": "stdout",
     "output_type": "stream",
     "text": [
      "not eligible\n"
     ]
    }
   ],
   "source": [
    "age = int(input(\"enter Your age:\"))\n",
    "if age > 17:\n",
    "    print(\"eligible\")\n",
    "else:\n",
    "    print(\"not eligible\")"
   ]
  },
  {
   "cell_type": "code",
   "execution_count": 67,
   "id": "dfb35205-3733-4f36-970a-dd5a8702daa7",
   "metadata": {},
   "outputs": [
    {
     "name": "stdin",
     "output_type": "stream",
     "text": [
      "Enter the Number 7\n"
     ]
    },
    {
     "name": "stdout",
     "output_type": "stream",
     "text": [
      "odd\n"
     ]
    }
   ],
   "source": [
    "number=int(input(\"Enter the Number\"))\n",
    "if number%2 == 0:\n",
    "    print (\"even\")\n",
    "else:\n",
    "    print(\"odd\")"
   ]
  },
  {
   "cell_type": "code",
   "execution_count": 68,
   "id": "662334dc-1dd8-45e7-aa9a-ddf28f62c221",
   "metadata": {},
   "outputs": [
    {
     "name": "stdin",
     "output_type": "stream",
     "text": [
      "Enter Number: 8\n"
     ]
    },
    {
     "name": "stdout",
     "output_type": "stream",
     "text": [
      "Not divisible\n"
     ]
    }
   ],
   "source": [
    "number = int(input(\"Enter Number:\"))\n",
    "if number % 7 == 0:\n",
    "    print(\"divisible\")\n",
    "else:\n",
    "    print(\"Not divisible\")"
   ]
  },
  {
   "cell_type": "code",
   "execution_count": 78,
   "id": "fd548a9d-856d-4944-8ce3-40c813e440b5",
   "metadata": {},
   "outputs": [
    {
     "name": "stdin",
     "output_type": "stream",
     "text": [
      "Enter Number: 5\n"
     ]
    },
    {
     "name": "stdout",
     "output_type": "stream",
     "text": [
      "Hello\n"
     ]
    }
   ],
   "source": [
    "number_one = int(input(\"Enter Number:\"))\n",
    "if number_one % 5 == 0:\n",
    "    print(\"Hello\")\n",
    "else:\n",
    "    print(\"Bye\")"
   ]
  },
  {
   "cell_type": "code",
   "execution_count": null,
   "id": "19284e60-b906-405c-95aa-1be68837450a",
   "metadata": {},
   "outputs": [],
   "source": [
    "int(input(\"enter a number\"))"
   ]
  }
 ],
 "metadata": {
  "kernelspec": {
   "display_name": "Python [conda env:base] *",
   "language": "python",
   "name": "conda-base-py"
  },
  "language_info": {
   "codemirror_mode": {
    "name": "ipython",
    "version": 3
   },
   "file_extension": ".py",
   "mimetype": "text/x-python",
   "name": "python",
   "nbconvert_exporter": "python",
   "pygments_lexer": "ipython3",
   "version": "3.13.5"
  }
 },
 "nbformat": 4,
 "nbformat_minor": 5
}
