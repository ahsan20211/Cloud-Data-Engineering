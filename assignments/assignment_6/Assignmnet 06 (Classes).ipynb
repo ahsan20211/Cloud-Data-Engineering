{
 "cells": [
  {
   "cell_type": "markdown",
   "metadata": {
    "id": "XLFr4w_7OFN7"
   },
   "source": [
    "1. Write a Python program to create a class representing a Circle. Include methods to calculate its area and perimeter."
   ]
  },
  {
   "cell_type": "code",
   "execution_count": 14,
   "metadata": {},
   "outputs": [
    {
     "name": "stdout",
     "output_type": "stream",
     "text": [
      "Radius: 5\n",
      "Area: 78.53981633974483\n",
      "Perimeter: 31.41592653589793\n"
     ]
    }
   ],
   "source": [
    "import math\n",
    "\n",
    "class Circle:\n",
    "    def __init__(self, radius):\n",
    "        self.radius = radius\n",
    "\n",
    "    def area(self):\n",
    "        return math.pi * self.radius ** 2\n",
    "\n",
    "    def perimeter(self):\n",
    "        return 2 * math.pi * self.radius\n",
    "\n",
    "radius1 = Circle(5)\n",
    "\n",
    "print(\"Radius:\", radius1.radius)\n",
    "print(\"Area:\", radius1.area())\n",
    "print(\"Perimeter:\", radius1.perimeter())\n"
   ]
  },
  {
   "cell_type": "markdown",
   "metadata": {
    "id": "CBPk4mH4OTCO"
   },
   "source": [
    "2. Write a Python program to create a person class. Include attributes like name, country and date of birth. Implement a method to determine the person's age.\n"
   ]
  },
  {
   "cell_type": "code",
   "execution_count": 15,
   "metadata": {},
   "outputs": [
    {
     "name": "stdout",
     "output_type": "stream",
     "text": [
      "Name: Ahsan\n",
      "Country: Pakistan\n",
      "Date of Birth: 01-09-2001\n",
      "Age: 24\n"
     ]
    }
   ],
   "source": [
    "from datetime import datetime\n",
    "\n",
    "class Person:\n",
    "    def __init__(self, name, country, dob):\n",
    "        self.name = name\n",
    "        self.country = country\n",
    "        self.dob = datetime.strptime(dob, \"%d-%m-%Y\")\n",
    "\n",
    "    def calculate_age(self):\n",
    "        today = datetime.today()\n",
    "        age = today.year - self.dob.year\n",
    "        return age\n",
    "        \n",
    "person1 = Person(\"Ahsan\", \"Pakistan\", \"01-09-2001\")\n",
    "\n",
    "print(\"Name:\", person1.name)\n",
    "print(\"Country:\", person1.country)\n",
    "print(\"Date of Birth:\", person1.dob.strftime(\"%d-%m-%Y\"))\n",
    "print(\"Age:\", person1.calculate_age())"
   ]
  },
  {
   "cell_type": "markdown",
   "metadata": {},
   "source": [
    "3. Write a Python program to create a calculator class. Include methods for basic arithmetic operations."
   ]
  },
  {
   "cell_type": "code",
   "execution_count": 34,
   "metadata": {},
   "outputs": [
    {
     "name": "stdout",
     "output_type": "stream",
     "text": [
      "add: 15\n",
      "minus: 40\n",
      "multiply: 500\n",
      "divide: not possible\n"
     ]
    }
   ],
   "source": [
    "class Calculator:\n",
    "    def add(self , a , b):\n",
    "        return a+b\n",
    "    def minus(self , a ,b):\n",
    "        return a-b\n",
    "    def multiply (self , a ,b):\n",
    "        return a*b\n",
    "    def divide (self ,a ,b):\n",
    "        if b == 0:\n",
    "            return \"not possible\"\n",
    "    \n",
    "        return a/b\n",
    "        \n",
    "\n",
    "calc1 = Calculator()\n",
    "print(\"add:\" ,calc1.add(5,10))\n",
    "print(\"minus:\" ,calc1.minus(50,10))\n",
    "print(\"multiply:\" ,calc1.multiply(50,10))\n",
    "print(\"divide:\" ,calc1.divide(50,0))"
   ]
  },
  {
   "cell_type": "code",
   "execution_count": null,
   "metadata": {},
   "outputs": [],
   "source": []
  }
 ],
 "metadata": {
  "colab": {
   "provenance": []
  },
  "kernelspec": {
   "display_name": "Python [conda env:base] *",
   "language": "python",
   "name": "conda-base-py"
  },
  "language_info": {
   "codemirror_mode": {
    "name": "ipython",
    "version": 3
   },
   "file_extension": ".py",
   "mimetype": "text/x-python",
   "name": "python",
   "nbconvert_exporter": "python",
   "pygments_lexer": "ipython3",
   "version": "3.13.5"
  }
 },
 "nbformat": 4,
 "nbformat_minor": 4
}
