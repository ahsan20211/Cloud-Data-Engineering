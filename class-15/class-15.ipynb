{
 "cells": [
  {
   "cell_type": "code",
   "execution_count": 2,
   "id": "73a7c872-62cc-4dd6-8293-553767d2952a",
   "metadata": {},
   "outputs": [
    {
     "data": {
      "text/plain": [
       "np.float64(45.5)"
      ]
     },
     "execution_count": 2,
     "metadata": {},
     "output_type": "execute_result"
    }
   ],
   "source": [
    "import numpy as np\n",
    "arr_2d = np.array([[40.5 , 45.5 , 50.3 , 58.5] , [4, 5, 6, 8]])\n",
    "arr_2d[0][1]"
   ]
  },
  {
   "cell_type": "code",
   "execution_count": 4,
   "id": "6a9a6642-51ab-4471-8f38-3345ba9c5c44",
   "metadata": {},
   "outputs": [
    {
     "data": {
      "text/plain": [
       "array([[45.5, 50.3],\n",
       "       [ 5. ,  6. ]])"
      ]
     },
     "execution_count": 4,
     "metadata": {},
     "output_type": "execute_result"
    }
   ],
   "source": [
    "arr_2d[: ,1:3]"
   ]
  },
  {
   "cell_type": "code",
   "execution_count": 5,
   "id": "f0fb91c6-cad8-42bc-bb47-31641810edbd",
   "metadata": {},
   "outputs": [
    {
     "data": {
      "text/plain": [
       "np.float64(22.25)"
      ]
     },
     "execution_count": 5,
     "metadata": {},
     "output_type": "execute_result"
    }
   ],
   "source": [
    "np.mean(arr_2d[:,0])"
   ]
  },
  {
   "cell_type": "code",
   "execution_count": 6,
   "id": "8c4446bb-e74e-4cb6-9091-6ffacb425b26",
   "metadata": {},
   "outputs": [
    {
     "data": {
      "text/plain": [
       "np.float64(25.25)"
      ]
     },
     "execution_count": 6,
     "metadata": {},
     "output_type": "execute_result"
    }
   ],
   "source": [
    "np.median(arr_2d[:,1])"
   ]
  },
  {
   "cell_type": "code",
   "execution_count": 13,
   "id": "6073a967-dafa-47b3-acfa-824d87bb5471",
   "metadata": {},
   "outputs": [
    {
     "data": {
      "text/plain": [
       "array([ 4. , 40.5])"
      ]
     },
     "execution_count": 13,
     "metadata": {},
     "output_type": "execute_result"
    }
   ],
   "source": [
    "np.sort(arr_2d[:,0])"
   ]
  },
  {
   "cell_type": "code",
   "execution_count": 16,
   "id": "d794a82d-72ec-45f1-9efc-0065164bedb3",
   "metadata": {},
   "outputs": [
    {
     "data": {
      "text/plain": [
       "array([[40.5, 45.5, 50.3, 58.5],\n",
       "       [ 4. ,  5. ,  6. ,  8. ]])"
      ]
     },
     "execution_count": 16,
     "metadata": {},
     "output_type": "execute_result"
    }
   ],
   "source": [
    "np.sort(arr_2d[:,:])"
   ]
  },
  {
   "cell_type": "code",
   "execution_count": 22,
   "id": "1e5b1f61-8d10-49e5-9200-8d5556e22d7c",
   "metadata": {},
   "outputs": [
    {
     "data": {
      "text/plain": [
       "array([1, 1, 4, 3, 4, 2, 3, 3, 4, 4], dtype=int32)"
      ]
     },
     "execution_count": 22,
     "metadata": {},
     "output_type": "execute_result"
    }
   ],
   "source": [
    "np.random.randint(1,5,10)"
   ]
  },
  {
   "cell_type": "code",
   "execution_count": 23,
   "id": "720ccb46-5527-4124-8feb-14a742787023",
   "metadata": {},
   "outputs": [
    {
     "ename": "SyntaxError",
     "evalue": "invalid syntax. Perhaps you forgot a comma? (4207071655.py, line 1)",
     "output_type": "error",
     "traceback": [
      "\u001b[1;36m  Cell \u001b[1;32mIn[23], line 1\u001b[1;36m\u001b[0m\n\u001b[1;33m    height = np.round(np.random.normal(1.75 , 0.20 , 5000)10)\u001b[0m\n\u001b[1;37m                      ^\u001b[0m\n\u001b[1;31mSyntaxError\u001b[0m\u001b[1;31m:\u001b[0m invalid syntax. Perhaps you forgot a comma?\n"
     ]
    }
   ],
   "source": [
    "height = np.round(np.random.normal(1.75 , 0.20 , 5000)10)"
   ]
  },
  {
   "cell_type": "code",
   "execution_count": null,
   "id": "f23df63c-3272-4c81-b7e2-701b469d1261",
   "metadata": {},
   "outputs": [],
   "source": []
  }
 ],
 "metadata": {
  "kernelspec": {
   "display_name": "Python [conda env:base] *",
   "language": "python",
   "name": "conda-base-py"
  },
  "language_info": {
   "codemirror_mode": {
    "name": "ipython",
    "version": 3
   },
   "file_extension": ".py",
   "mimetype": "text/x-python",
   "name": "python",
   "nbconvert_exporter": "python",
   "pygments_lexer": "ipython3",
   "version": "3.13.5"
  }
 },
 "nbformat": 4,
 "nbformat_minor": 5
}
