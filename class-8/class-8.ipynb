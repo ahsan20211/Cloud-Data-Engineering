{
 "cells": [
  {
   "cell_type": "code",
   "execution_count": 5,
   "id": "a46b4f46-6d17-4169-97f8-bad0dfa09971",
   "metadata": {},
   "outputs": [],
   "source": [
    "def calculator():\n",
    "    num1=int(input(\"enter the first number\"))\n",
    "    num2=int(input(\"enter the second number\"))\n",
    "    operator = input(\"enter any opeartor:(+ , -  , * , / )\")\n",
    "    if operator == \"+\":\n",
    "        print(num1 + num2)\n",
    "    elif operator == \"-\":\n",
    "        print(num1-num2)\n",
    "    elif operator == \"*\":\n",
    "        print(num1* num2)\n",
    "    elif operator == \"/\":\n",
    "        print(num1/num2)\n",
    "    else:\n",
    "        print(\"insufficient value\")"
   ]
  },
  {
   "cell_type": "code",
   "execution_count": 7,
   "id": "e0a156ab-f0c9-4286-a524-29e1a59de3c0",
   "metadata": {},
   "outputs": [
    {
     "name": "stdin",
     "output_type": "stream",
     "text": [
      "enter the first number 5\n",
      "enter the second number 3\n",
      "enter any opeartor:(+ , -  , * , / ) k\n"
     ]
    },
    {
     "name": "stdout",
     "output_type": "stream",
     "text": [
      "insufficient value\n"
     ]
    }
   ],
   "source": [
    "calculator()"
   ]
  },
  {
   "cell_type": "code",
   "execution_count": 15,
   "id": "cabc61bb-6c91-4238-a9a1-bc2541d3077e",
   "metadata": {},
   "outputs": [],
   "source": [
    "users = []  \n",
    "def register_form():\n",
    "    name = input(\"Enter your good name: \")\n",
    "    email = input(\"Enter your email: \")\n",
    "    password = input(\"Enter the password: \")\n",
    "    user = [name, email, password]\n",
    "    users.append(user)\n",
    "    print(\"You are registered:\", user)"
   ]
  },
  {
   "cell_type": "code",
   "execution_count": 16,
   "id": "7edaabd5-6831-4f38-a69c-4dbe0e069a5e",
   "metadata": {},
   "outputs": [
    {
     "name": "stdin",
     "output_type": "stream",
     "text": [
      "Enter your good name:  ahsan\n",
      "Enter your email:  ahsan\n",
      "Enter the password:  123\n"
     ]
    },
    {
     "name": "stdout",
     "output_type": "stream",
     "text": [
      "You are registered: ['ahsan', 'ahsan', '123']\n"
     ]
    }
   ],
   "source": [
    "register_form()"
   ]
  },
  {
   "cell_type": "code",
   "execution_count": 31,
   "id": "7b15241b-904d-4f3f-bfd7-08e4b9849481",
   "metadata": {},
   "outputs": [],
   "source": [
    "def login_form():\n",
    "    name_login = input(\"Enter your good name: \")\n",
    "    password_login = input(\"Enter the password: \") \n",
    "    if users[0] == name_login and users[2] == password_login:\n",
    "        print(\"Welcome,\", name_login)\n",
    "        return\n",
    "    print(\"You are not registered or incorrect credentials.\")"
   ]
  },
  {
   "cell_type": "code",
   "execution_count": 32,
   "id": "61e0010d-829e-4b3a-8c02-2da06b9bda0f",
   "metadata": {},
   "outputs": [
    {
     "name": "stdin",
     "output_type": "stream",
     "text": [
      "Enter your good name:  hassan\n",
      "Enter the password:  123\n"
     ]
    },
    {
     "name": "stdout",
     "output_type": "stream",
     "text": [
      "You are not registered or incorrect credentials.\n"
     ]
    }
   ],
   "source": [
    "login_form()"
   ]
  },
  {
   "cell_type": "code",
   "execution_count": 33,
   "id": "44783fbe-7253-43ce-8357-35a748ba7e81",
   "metadata": {},
   "outputs": [
    {
     "data": {
      "text/plain": [
       "[['ahsan', 'ahsan', '123']]"
      ]
     },
     "execution_count": 33,
     "metadata": {},
     "output_type": "execute_result"
    }
   ],
   "source": [
    "users"
   ]
  },
  {
   "cell_type": "code",
   "execution_count": null,
   "id": "fc94ddd1-3daf-4a93-a95a-c5a2cd1b359b",
   "metadata": {},
   "outputs": [],
   "source": []
  }
 ],
 "metadata": {
  "kernelspec": {
   "display_name": "Python [conda env:base] *",
   "language": "python",
   "name": "conda-base-py"
  },
  "language_info": {
   "codemirror_mode": {
    "name": "ipython",
    "version": 3
   },
   "file_extension": ".py",
   "mimetype": "text/x-python",
   "name": "python",
   "nbconvert_exporter": "python",
   "pygments_lexer": "ipython3",
   "version": "3.13.5"
  }
 },
 "nbformat": 4,
 "nbformat_minor": 5
}
