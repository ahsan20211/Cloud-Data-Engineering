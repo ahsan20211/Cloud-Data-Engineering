{
 "cells": [
  {
   "cell_type": "markdown",
   "id": "438b41f6-5433-4a25-85fa-a019f7ed5a43",
   "metadata": {},
   "source": [
    "# lamba function"
   ]
  },
  {
   "cell_type": "code",
   "execution_count": 1,
   "id": "758473f0-e716-448c-ae20-979222c48a5c",
   "metadata": {},
   "outputs": [
    {
     "data": {
      "text/plain": [
       "17"
      ]
     },
     "execution_count": 1,
     "metadata": {},
     "output_type": "execute_result"
    }
   ],
   "source": [
    "(lambda x,y:x+y)(8,9) "
   ]
  },
  {
   "cell_type": "code",
   "execution_count": 3,
   "id": "f558d91f-2b0b-41b6-a407-3ad9476d9f46",
   "metadata": {},
   "outputs": [
    {
     "data": {
      "text/plain": [
       "72"
      ]
     },
     "execution_count": 3,
     "metadata": {},
     "output_type": "execute_result"
    }
   ],
   "source": [
    "f = lambda x,y:x*y\n",
    "f (8 , 9)"
   ]
  },
  {
   "cell_type": "code",
   "execution_count": 5,
   "id": "2af4a2d0-8d2b-4727-96bf-88008e7eddf6",
   "metadata": {},
   "outputs": [
    {
     "data": {
      "text/plain": [
       "24"
      ]
     },
     "execution_count": 5,
     "metadata": {},
     "output_type": "execute_result"
    }
   ],
   "source": [
    "f = lambda n: 1 if n ==1 else n*f(n-1)\n",
    "f(4)"
   ]
  },
  {
   "cell_type": "code",
   "execution_count": 8,
   "id": "109d7793-e39d-4c8b-8cb8-70b7e51334b7",
   "metadata": {},
   "outputs": [
    {
     "data": {
      "text/plain": [
       "[1, 3, 5, 7, 9, 11, 13, 15, 17, 19, 21, 23, 25, 27, 29, 31, 33, 35, 37, 39]"
      ]
     },
     "execution_count": 8,
     "metadata": {},
     "output_type": "execute_result"
    }
   ],
   "source": [
    "list(filter(lambda x:x%2==1 ,range(1 , 41,2)))"
   ]
  },
  {
   "cell_type": "code",
   "execution_count": 48,
   "id": "ac95b241-f2a9-434d-a1b4-f88553751653",
   "metadata": {},
   "outputs": [],
   "source": [
    "class saylani():\n",
    "    obj_count = 0\n",
    "    def __init__(self,campus,staff_count,courses_count):\n",
    "        self.campus = campus\n",
    "        self.staff_count = staff_count\n",
    "        self.courses_count = courses_count\n",
    "        saylani.obj_count += 1\n",
    "    def detail(self):\n",
    "        print(f\"{self.campus} have {self.staff_count} and courses are {self.courses_count} {courses}\")\n",
    "    courses = ([\"web\" , \"ai\" , \"cde\"])\n",
    "\n",
    "za = saylani(\"ZAIP\" , 4 , 5)\n",
    "zaaa = saylani(\"ZAIP\" , 4 , 5)"
   ]
  },
  {
   "cell_type": "code",
   "execution_count": 49,
   "id": "d1de9cfe-1993-4450-81ee-e5c580da26fe",
   "metadata": {},
   "outputs": [
    {
     "name": "stdout",
     "output_type": "stream",
     "text": [
      "ZAIP have 4 and courses are 5 ['web', 'ai', 'cde']\n"
     ]
    }
   ],
   "source": [
    "za.detail()"
   ]
  },
  {
   "cell_type": "code",
   "execution_count": 50,
   "id": "4a3ce84d-408e-4f7f-9e0c-696bf6d4672e",
   "metadata": {},
   "outputs": [
    {
     "data": {
      "text/plain": [
       "2"
      ]
     },
     "execution_count": 50,
     "metadata": {},
     "output_type": "execute_result"
    }
   ],
   "source": [
    "za.obj_count"
   ]
  },
  {
   "cell_type": "code",
   "execution_count": null,
   "id": "b68014c0-c4ca-43ef-8f63-e61ca0d1e857",
   "metadata": {},
   "outputs": [],
   "source": []
  }
 ],
 "metadata": {
  "kernelspec": {
   "display_name": "Python [conda env:base] *",
   "language": "python",
   "name": "conda-base-py"
  },
  "language_info": {
   "codemirror_mode": {
    "name": "ipython",
    "version": 3
   },
   "file_extension": ".py",
   "mimetype": "text/x-python",
   "name": "python",
   "nbconvert_exporter": "python",
   "pygments_lexer": "ipython3",
   "version": "3.13.5"
  }
 },
 "nbformat": 4,
 "nbformat_minor": 5
}
