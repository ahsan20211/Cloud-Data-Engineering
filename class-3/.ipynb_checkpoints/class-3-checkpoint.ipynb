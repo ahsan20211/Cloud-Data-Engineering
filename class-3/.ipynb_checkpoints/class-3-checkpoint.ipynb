{
 "cells": [
  {
   "cell_type": "code",
   "execution_count": 5,
   "id": "dc2e2110-08e9-4f43-ba52-ab5d05d72a67",
   "metadata": {},
   "outputs": [
    {
     "data": {
      "text/plain": [
       "'Ahsan Rashid'"
      ]
     },
     "execution_count": 5,
     "metadata": {},
     "output_type": "execute_result"
    }
   ],
   "source": [
    "f_name = \"Ahsan\"\n",
    "l_name = \"Rashid\" \n",
    "f_name + ' ' +l_name "
   ]
  },
  {
   "cell_type": "code",
   "execution_count": 15,
   "id": "aa273035-74ae-4dc1-b722-1fc57fd66753",
   "metadata": {},
   "outputs": [
    {
     "data": {
      "text/plain": [
       "'my name is Ahsan  Rashid'"
      ]
     },
     "execution_count": 15,
     "metadata": {},
     "output_type": "execute_result"
    }
   ],
   "source": [
    " f\"my name is {f_name}  {l_name}\""
   ]
  },
  {
   "cell_type": "code",
   "execution_count": 17,
   "id": "0477efe2-4997-4ecf-980b-dbe81a634756",
   "metadata": {},
   "outputs": [
    {
     "name": "stdin",
     "output_type": "stream",
     "text": [
      "Enter Your good name Ahsan\n"
     ]
    }
   ],
   "source": [
    "f_name = input(\"Enter Your good name\")"
   ]
  },
  {
   "cell_type": "code",
   "execution_count": 18,
   "id": "2f9003ca-e8ec-4d68-b1d8-db6c7fe9a76f",
   "metadata": {},
   "outputs": [
    {
     "data": {
      "text/plain": [
       "'Ahsan'"
      ]
     },
     "execution_count": 18,
     "metadata": {},
     "output_type": "execute_result"
    }
   ],
   "source": [
    "f_name"
   ]
  },
  {
   "cell_type": "code",
   "execution_count": 21,
   "id": "a4bf3035-e9e9-41a2-a3f9-46abe83f9cf2",
   "metadata": {},
   "outputs": [
    {
     "name": "stdin",
     "output_type": "stream",
     "text": [
      "enter your age 25\n"
     ]
    }
   ],
   "source": [
    "age  = int(input(\"enter your age\"))"
   ]
  },
  {
   "cell_type": "code",
   "execution_count": 22,
   "id": "a1a2977e-510e-4542-b49f-1f137961133f",
   "metadata": {},
   "outputs": [
    {
     "data": {
      "text/plain": [
       "25"
      ]
     },
     "execution_count": 22,
     "metadata": {},
     "output_type": "execute_result"
    }
   ],
   "source": [
    "age"
   ]
  },
  {
   "cell_type": "code",
   "execution_count": 24,
   "id": "23fe2ada-e527-4bd9-8b86-dcdb3709042e",
   "metadata": {},
   "outputs": [
    {
     "name": "stdin",
     "output_type": "stream",
     "text": [
      "enter your string ahsan\n"
     ]
    }
   ],
   "source": [
    "check_your_string = input(\"enter your string\")"
   ]
  },
  {
   "cell_type": "markdown",
   "id": "d45c974e-fbd3-479c-8384-9c6655ea7664",
   "metadata": {},
   "source": [
    "### if else\n"
   ]
  },
  {
   "cell_type": "code",
   "execution_count": 25,
   "id": "319bc3cf-0004-42ad-ae8b-2f0e19e492b2",
   "metadata": {},
   "outputs": [
    {
     "ename": "NameError",
     "evalue": "name 'true' is not defined",
     "output_type": "error",
     "traceback": [
      "\u001b[1;31m---------------------------------------------------------------------------\u001b[0m",
      "\u001b[1;31mNameError\u001b[0m                                 Traceback (most recent call last)",
      "Cell \u001b[1;32mIn[25], line 1\u001b[0m\n\u001b[1;32m----> 1\u001b[0m eid \u001b[38;5;241m=\u001b[39m true\n",
      "\u001b[1;31mNameError\u001b[0m: name 'true' is not defined"
     ]
    }
   ],
   "source": [
    "eid = true"
   ]
  },
  {
   "cell_type": "code",
   "execution_count": 29,
   "id": "c04e643c-5891-41f6-89d8-3d5ee9f06dae",
   "metadata": {},
   "outputs": [
    {
     "name": "stdout",
     "output_type": "stream",
     "text": [
      "of\n"
     ]
    }
   ],
   "source": [
    "eid = True\n",
    "if eid:\n",
    "    print(\"of\")\n",
    "else:\n",
    "    print(\"no\")"
   ]
  },
  {
   "cell_type": "code",
   "execution_count": 37,
   "id": "c1d2ee96-107a-44e1-a002-e400e3737708",
   "metadata": {},
   "outputs": [
    {
     "name": "stdout",
     "output_type": "stream",
     "text": [
      "not eligible\n"
     ]
    }
   ],
   "source": [
    "test = False\n",
    "if test:\n",
    "    print (\"eligible\")\n",
    "else:\n",
    "    print(\"not eligible\")"
   ]
  },
  {
   "cell_type": "code",
   "execution_count": 40,
   "id": "a4db39e7-cafd-46e4-bce8-1eebffd9b723",
   "metadata": {},
   "outputs": [
    {
     "name": "stdin",
     "output_type": "stream",
     "text": [
      "enter your marks 98\n"
     ]
    },
    {
     "name": "stdout",
     "output_type": "stream",
     "text": [
      "your grade is A+\n"
     ]
    }
   ],
   "source": [
    "marks = int(input(\"enter your marks\"))\n",
    "if(marks>=90):\n",
    "    print(\"your grade is A+\")\n",
    "elif (marks>=70):\n",
    "    print(\"your grade is B+\")\n",
    "else:\n",
    "    print(\"uou are fasil\")"
   ]
  },
  {
   "cell_type": "code",
   "execution_count": 42,
   "id": "2e2a5280-3491-49fb-b949-bb310ebb96d6",
   "metadata": {},
   "outputs": [
    {
     "name": "stdin",
     "output_type": "stream",
     "text": [
      "enter your age: 58\n"
     ]
    },
    {
     "name": "stdout",
     "output_type": "stream",
     "text": [
      "eligible\n"
     ]
    }
   ],
   "source": [
    "age = int(input(\"enter your age:\"))\n",
    "if age>=18:\n",
    "    print (\"eligible\")\n",
    "else:\n",
    "    print(\"NOT ELIGIBLE\")"
   ]
  },
  {
   "cell_type": "code",
   "execution_count": 55,
   "id": "2edd1711-d986-43dc-8cde-4c17d7fbc28c",
   "metadata": {},
   "outputs": [
    {
     "ename": "SyntaxError",
     "evalue": "unterminated string literal (detected at line 3) (3370558678.py, line 3)",
     "output_type": "error",
     "traceback": [
      "\u001b[1;36m  Cell \u001b[1;32mIn[55], line 3\u001b[1;36m\u001b[0m\n\u001b[1;33m    print( f\" {number}\"even\")\u001b[0m\n\u001b[1;37m                           ^\u001b[0m\n\u001b[1;31mSyntaxError\u001b[0m\u001b[1;31m:\u001b[0m unterminated string literal (detected at line 3)\n"
     ]
    }
   ],
   "source": [
    "number = int(input(\"enter any number\"))\n",
    "if (number % 2 == 0):\n",
    "    print( \"even\")\n",
    "else:\n",
    "    print(\"odd\")"
   ]
  },
  {
   "cell_type": "code",
   "execution_count": 53,
   "id": "d45c6f33-9b7a-4595-abd2-533865f24fda",
   "metadata": {},
   "outputs": [
    {
     "name": "stdin",
     "output_type": "stream",
     "text": [
      "enter any number 69\n"
     ]
    },
    {
     "name": "stdout",
     "output_type": "stream",
     "text": [
      "not divisible\n"
     ]
    }
   ],
   "source": [
    "number = int(input(\"enter any number\"))\n",
    "if (number % 7 == 0):\n",
    "    print(\"divisible\")\n",
    "else:\n",
    "    print(\"odd\")\n"
   ]
  },
  {
   "cell_type": "code",
   "execution_count": null,
   "id": "44c79161-af09-4ab5-843f-33be76b411fc",
   "metadata": {},
   "outputs": [],
   "source": []
  }
 ],
 "metadata": {
  "kernelspec": {
   "display_name": "Python [conda env:base] *",
   "language": "python",
   "name": "conda-base-py"
  },
  "language_info": {
   "codemirror_mode": {
    "name": "ipython",
    "version": 3
   },
   "file_extension": ".py",
   "mimetype": "text/x-python",
   "name": "python",
   "nbconvert_exporter": "python",
   "pygments_lexer": "ipython3",
   "version": "3.13.5"
  }
 },
 "nbformat": 4,
 "nbformat_minor": 5
}
