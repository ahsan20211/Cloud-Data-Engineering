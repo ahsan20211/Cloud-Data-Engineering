{
 "cells": [
  {
   "cell_type": "code",
   "execution_count": 2,
   "id": "e849657f-911d-4a85-bdaf-16b1b9fbd4c4",
   "metadata": {},
   "outputs": [
    {
     "name": "stdout",
     "output_type": "stream",
     "text": [
      "This is a public method\n",
      "This is a protected method\n",
      "This is a private method\n"
     ]
    }
   ],
   "source": [
    "class Animals:\n",
    "    def __init__(self):\n",
    "        pass\n",
    "\n",
    "    def cat(self):  \n",
    "        print(\"This is a public method\")\n",
    "\n",
    "    def _dog(self):  \n",
    "        print(\"This is a protected method\")\n",
    "\n",
    "    def __parrot(self):  \n",
    "        print(\"This is a private method\")\n",
    "\n",
    "    def access_private(self):\n",
    "        self.__parrot() \n",
    "\n",
    "animal_obj = Animals()\n",
    "\n",
    "animal_obj.cat()\n",
    "animal_obj._dog()\n",
    "animal_obj.access_private()"
   ]
  },
  {
   "cell_type": "code",
   "execution_count": 6,
   "id": "3c8aab6e-a6ca-440c-a153-f1507d240c7c",
   "metadata": {},
   "outputs": [],
   "source": [
    "f = open('file.txt' , \"w\")\n",
    "f.write(\"ahsan here\")\n",
    "f.close()"
   ]
  },
  {
   "cell_type": "code",
   "execution_count": 7,
   "id": "65e3f94f-fd04-48b5-967e-042fdad74ed2",
   "metadata": {},
   "outputs": [],
   "source": [
    "with open('file.txt', \"w\") as f:\n",
    "    f.write(\"ahsan here\\n\")\n",
    "    f.write(\"on next line\")\n"
   ]
  },
  {
   "cell_type": "code",
   "execution_count": null,
   "id": "53d5dedd-17e5-4835-a3bd-13f97270a39f",
   "metadata": {},
   "outputs": [],
   "source": []
  }
 ],
 "metadata": {
  "kernelspec": {
   "display_name": "Python [conda env:base] *",
   "language": "python",
   "name": "conda-base-py"
  },
  "language_info": {
   "codemirror_mode": {
    "name": "ipython",
    "version": 3
   },
   "file_extension": ".py",
   "mimetype": "text/x-python",
   "name": "python",
   "nbconvert_exporter": "python",
   "pygments_lexer": "ipython3",
   "version": "3.13.5"
  }
 },
 "nbformat": 4,
 "nbformat_minor": 5
}
