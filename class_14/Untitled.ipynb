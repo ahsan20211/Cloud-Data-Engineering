{
 "cells": [
  {
   "cell_type": "code",
   "execution_count": 36,
   "id": "7921dd69-35e1-437d-82e6-401d3e97faa7",
   "metadata": {},
   "outputs": [
    {
     "name": "stdout",
     "output_type": "stream",
     "text": [
      "CSV file created successfully!\n"
     ]
    }
   ],
   "source": [
    "import csv\n",
    "\n",
    "# Your data\n",
    "data = [\n",
    "    [\"Year\", \"Event\", \"Winner\"],   # header\n",
    "    [1995, \"Best-Kept Lawn\", \"None\"],\n",
    "    [1999, \"Gobstones\", \"Welch Nationional\"],\n",
    "    [2006, \"World Cup\", \"Burkina Faso\"]\n",
    "]\n",
    "\n",
    "# Create and write into CSV file\n",
    "with open(\"events_new_ahsan.csv\", \"w\", newline=\"\") as file:\n",
    "    writer = csv.writer(file)\n",
    "    writer.writerows(data)\n",
    "\n",
    "print(\"CSV file created successfully!\")"
   ]
  },
  {
   "cell_type": "code",
   "execution_count": 29,
   "id": "ae17bb70-87f2-4c29-b2aa-5da434e9345a",
   "metadata": {},
   "outputs": [],
   "source": []
  },
  {
   "cell_type": "code",
   "execution_count": 50,
   "id": "2ea86ddb-3af6-4876-a3e4-4e8e329d795d",
   "metadata": {},
   "outputs": [
    {
     "name": "stdout",
     "output_type": "stream",
     "text": [
      "['Year', 'Event', 'Winner']\n",
      "['1995', 'Best-Kept Lawn', 'None']\n",
      "['1999', 'Gobstones', 'Welch Nationional']\n",
      "['2006', 'World Cup', 'Burkina Faso']\n",
      "['2025', 'asia cup', 'Pakistan']\n",
      "['2025', 'asia cup', 'Pakistan']\n",
      "['2025', 'asia cup', 'India']\n",
      "['2025', 'asia cup', 'Pakistan']\n",
      "['2025', 'asia cup', 'India']\n"
     ]
    }
   ],
   "source": [
    "with open(\"events_new_ahsan.csv\", \"r\", newline=\"\") as file:\n",
    "    reader = csv.reader(file)\n",
    "    for row in reader:\n",
    "        print(row)"
   ]
  },
  {
   "cell_type": "code",
   "execution_count": 49,
   "id": "a1f83235-3a0e-40db-9902-87033de3df60",
   "metadata": {},
   "outputs": [],
   "source": [
    "with open(\"events_new_ahsan.csv\", \"a\", newline=\"\") as file:\n",
    "    writer = csv.writer(file)\n",
    "    writer.writerows([[\"2025\", \"asia cup\", \"Pakistan\"],[\"2025\", \"asia cup\", \"India\"]])"
   ]
  },
  {
   "cell_type": "code",
   "execution_count": 56,
   "id": "8ab250e6-7952-4ba9-ad41-1e7192518e86",
   "metadata": {},
   "outputs": [],
   "source": [
    "import json"
   ]
  },
  {
   "cell_type": "code",
   "execution_count": 65,
   "id": "ce3ed709-205f-468b-a4f4-43d578dbf98c",
   "metadata": {},
   "outputs": [],
   "source": [
    "with open ('./jsonfile.json' , 'w') as file:\n",
    "    json.dump([{\"Year\": 1995, \"Event\": \"Best-Kept Lawn\", \"Winner\": \"None\"},\n",
    "    {\"Year\": 1999, \"Event\": \"Gobstones\", \"Winner\": \"Welch Nationional\"}] , file)"
   ]
  },
  {
   "cell_type": "code",
   "execution_count": 66,
   "id": "72e6dd60-8312-4ad1-b529-ca8f96645ddd",
   "metadata": {},
   "outputs": [
    {
     "name": "stdout",
     "output_type": "stream",
     "text": [
      "[{'Year': 1995, 'Event': 'Best-Kept Lawn', 'Winner': 'None'}, {'Year': 1999, 'Event': 'Gobstones', 'Winner': 'Welch Nationional'}]\n"
     ]
    }
   ],
   "source": [
    "with open ('./jsonfile.json' , 'r') as file:\n",
    "    content = json.load(file) \n",
    "    print(content)"
   ]
  },
  {
   "cell_type": "markdown",
   "id": "187aed8c-d833-46f4-87a8-23870ac2c628",
   "metadata": {},
   "source": [
    " ## ADD DATA "
   ]
  },
  {
   "cell_type": "markdown",
   "id": "ed1609fd-65f9-41b5-9b0d-c85aefdb9cf6",
   "metadata": {},
   "source": [
    "## TRY ACCEPT"
   ]
  },
  {
   "cell_type": "code",
   "execution_count": 68,
   "id": "fabadcd9-1c0e-436e-9e1c-f28b5d872caf",
   "metadata": {},
   "outputs": [
    {
     "ename": "ZeroDivisionError",
     "evalue": "division by zero",
     "output_type": "error",
     "traceback": [
      "\u001b[1;31m---------------------------------------------------------------------------\u001b[0m",
      "\u001b[1;31mZeroDivisionError\u001b[0m                         Traceback (most recent call last)",
      "Cell \u001b[1;32mIn[68], line 1\u001b[0m\n\u001b[1;32m----> 1\u001b[0m \u001b[38;5;241m5\u001b[39m \u001b[38;5;241m/\u001b[39m \u001b[38;5;241m0\u001b[39m\n",
      "\u001b[1;31mZeroDivisionError\u001b[0m: division by zero"
     ]
    }
   ],
   "source": [
    "5 / 0"
   ]
  },
  {
   "cell_type": "code",
   "execution_count": 70,
   "id": "7f15452c-9f4c-4e0d-aaab-9c71b2b67222",
   "metadata": {},
   "outputs": [
    {
     "name": "stdout",
     "output_type": "stream",
     "text": [
      "before try\n",
      "division by zero\n",
      "after try\n"
     ]
    }
   ],
   "source": [
    "print(\"before try\")\n",
    "try:\n",
    "    calculation = 5/0\n",
    "except Exception as e:\n",
    "    print(e)\n",
    "print(\"after try\")"
   ]
  },
  {
   "cell_type": "code",
   "execution_count": 71,
   "id": "dc2b73a6-22b1-45e9-8ac6-727bfc5deccf",
   "metadata": {},
   "outputs": [
    {
     "name": "stdout",
     "output_type": "stream",
     "text": [
      "Requirement already satisfied: numpy in c:\\users\\pc\\anaconda3\\lib\\site-packages (2.1.3)Note: you may need to restart the kernel to use updated packages.\n",
      "\n"
     ]
    }
   ],
   "source": [
    "pip install numpy"
   ]
  },
  {
   "cell_type": "code",
   "execution_count": null,
   "id": "9b351208-6e8f-4a05-ab53-b0dd1c181ea3",
   "metadata": {},
   "outputs": [],
   "source": []
  }
 ],
 "metadata": {
  "kernelspec": {
   "display_name": "Python [conda env:base] *",
   "language": "python",
   "name": "conda-base-py"
  },
  "language_info": {
   "codemirror_mode": {
    "name": "ipython",
    "version": 3
   },
   "file_extension": ".py",
   "mimetype": "text/x-python",
   "name": "python",
   "nbconvert_exporter": "python",
   "pygments_lexer": "ipython3",
   "version": "3.13.5"
  }
 },
 "nbformat": 4,
 "nbformat_minor": 5
}
