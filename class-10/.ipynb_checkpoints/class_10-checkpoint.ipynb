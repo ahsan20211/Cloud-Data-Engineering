{
 "cells": [
  {
   "cell_type": "code",
   "execution_count": 7,
   "id": "7506a409-479a-430c-8a33-52473212bf88",
   "metadata": {},
   "outputs": [
    {
     "name": "stdout",
     "output_type": "stream",
     "text": [
      "Ahsan\n",
      "(2, 3, 4, 5)\n",
      "14\n"
     ]
    }
   ],
   "source": [
    "add = 0\n",
    "def add_num(name,*nums):  \n",
    "    print(name)\n",
    "    print(nums)\n",
    "    add = sum(nums)\n",
    "    print(add)\n",
    "add_num(\"Ahsan\",2,3,4,5)"
   ]
  },
  {
   "cell_type": "code",
   "execution_count": 11,
   "id": "cf1672be-e449-4213-b1b7-b13640e7e23e",
   "metadata": {},
   "outputs": [
    {
     "name": "stdout",
     "output_type": "stream",
     "text": [
      "1\n"
     ]
    }
   ],
   "source": [
    "def factorial(n):\n",
    "    if (n == 1 or n==0):\n",
    "        return  1\n",
    "    else:\n",
    "        return n*factorial(n-1)\n",
    "print(factorial(1))\n",
    "        "
   ]
  },
  {
   "cell_type": "code",
   "execution_count": 12,
   "id": "cd4f1fa2-9242-41eb-ab3b-5afd8a114c65",
   "metadata": {},
   "outputs": [
    {
     "name": "stdin",
     "output_type": "stream",
     "text": [
      "enter any number 5\n"
     ]
    },
    {
     "data": {
      "text/plain": [
       "120"
      ]
     },
     "execution_count": 12,
     "metadata": {},
     "output_type": "execute_result"
    }
   ],
   "source": [
    "fact =1 \n",
    "n = int(input(\"enter any number\"))\n",
    "while(n>1):\n",
    "    fact*=n\n",
    "    n = n-1\n",
    "fact\n",
    "    "
   ]
  },
  {
   "cell_type": "code",
   "execution_count": 2,
   "id": "517d7041-0f94-4fd2-8eef-644b439c663e",
   "metadata": {},
   "outputs": [
    {
     "name": "stdout",
     "output_type": "stream",
     "text": [
      "ahsan\n"
     ]
    },
    {
     "name": "stdin",
     "output_type": "stream",
     "text": [
      "enter any name ahsaaan\n"
     ]
    },
    {
     "name": "stdout",
     "output_type": "stream",
     "text": [
      "ahsaaan\n"
     ]
    },
    {
     "name": "stdin",
     "output_type": "stream",
     "text": [
      "enter any name quit\n"
     ]
    }
   ],
   "source": [
    "user_input = \"ahsan\"\n",
    "while(user_input != \"quit\"):\n",
    "    print(user_input)\n",
    "    user_input = input(\"enter any name\")"
   ]
  },
  {
   "cell_type": "markdown",
   "id": "1b4d27b2-50e3-4ec2-8212-3d52c7ddc2d7",
   "metadata": {},
   "source": [
    "## classes"
   ]
  },
  {
   "cell_type": "code",
   "execution_count": null,
   "id": "837870a3-c523-475b-8508-f1e6950539da",
   "metadata": {},
   "outputs": [],
   "source": [
    "class Humans():\n",
    "    def __init__(self,name,age):\n",
    "        self.name = name\n",
    "        self.age = age\n",
    "    def walk(self):\n",
    "        print(f\"\")"
   ]
  }
 ],
 "metadata": {
  "kernelspec": {
   "display_name": "Python [conda env:base] *",
   "language": "python",
   "name": "conda-base-py"
  },
  "language_info": {
   "codemirror_mode": {
    "name": "ipython",
    "version": 3
   },
   "file_extension": ".py",
   "mimetype": "text/x-python",
   "name": "python",
   "nbconvert_exporter": "python",
   "pygments_lexer": "ipython3",
   "version": "3.13.5"
  }
 },
 "nbformat": 4,
 "nbformat_minor": 5
}
