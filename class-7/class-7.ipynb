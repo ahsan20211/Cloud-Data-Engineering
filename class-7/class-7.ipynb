{
 "cells": [
  {
   "cell_type": "markdown",
   "id": "b64cfcb2-7d3c-4d8f-92dc-8eddcdcc0f9b",
   "metadata": {},
   "source": [
    "## loops"
   ]
  },
  {
   "cell_type": "markdown",
   "id": "6be5502f-a003-4fd5-8139-3c886cb00110",
   "metadata": {},
   "source": [
    "# hi ahsan goodmorning "
   ]
  },
  {
   "cell_type": "code",
   "execution_count": 7,
   "id": "92fbb96f-6a61-4e50-b599-6bddd36d7902",
   "metadata": {},
   "outputs": [
    {
     "name": "stdout",
     "output_type": "stream",
     "text": [
      "1\n",
      "2\n",
      "3\n",
      "4\n",
      "5\n",
      "6\n"
     ]
    }
   ],
   "source": [
    "for temp in [1,2,3,4,5,6]:\n",
    "    print (temp)"
   ]
  },
  {
   "cell_type": "code",
   "execution_count": 24,
   "id": "4760edc3-ff07-49dc-b7dd-d3cb84ea24cf",
   "metadata": {},
   "outputs": [
    {
     "name": "stdin",
     "output_type": "stream",
     "text": [
      "enter number: 6\n"
     ]
    },
    {
     "name": "stdout",
     "output_type": "stream",
     "text": [
      "happy birthday\n",
      "happy birthday\n",
      "happy birthday\n",
      "happy birthday\n",
      "happy birthday\n",
      "happy birthday\n"
     ]
    }
   ],
   "source": [
    "message =\"happy birthday\"\n",
    "times = int(input('enter number:'))\n",
    "for temp in range(times):\n",
    "    print (message)"
   ]
  },
  {
   "cell_type": "code",
   "execution_count": 22,
   "id": "73088b43-8af1-44aa-bb8f-af3dfe19e1b1",
   "metadata": {},
   "outputs": [
    {
     "name": "stdin",
     "output_type": "stream",
     "text": [
      " 6\n"
     ]
    },
    {
     "name": "stdout",
     "output_type": "stream",
     "text": [
      "1\n",
      "4\n",
      "9\n",
      "16\n",
      "25\n",
      "36\n"
     ]
    }
   ],
   "source": [
    "numbers = int(input())\n",
    "for temp in range (1 , numbers+1):\n",
    "    print (temp**2)"
   ]
  },
  {
   "cell_type": "code",
   "execution_count": 29,
   "id": "b9321ff1-2755-4d69-81fd-ce6d1e611460",
   "metadata": {},
   "outputs": [
    {
     "name": "stdin",
     "output_type": "stream",
     "text": [
      "enter any Number: 7\n"
     ]
    },
    {
     "name": "stdout",
     "output_type": "stream",
     "text": [
      "7 * 1 = 7\n",
      "7 * 2 = 14\n",
      "7 * 3 = 21\n",
      "7 * 4 = 28\n",
      "7 * 5 = 35\n",
      "7 * 6 = 42\n",
      "7 * 7 = 49\n",
      "7 * 8 = 56\n",
      "7 * 9 = 63\n",
      "7 * 10 = 70\n"
     ]
    }
   ],
   "source": [
    "table = int(input(\"enter any Number:\"))\n",
    "for temp in range (1 , 11):\n",
    "    print (f\"{table} * {temp} = {temp*table}\")"
   ]
  },
  {
   "cell_type": "code",
   "execution_count": 45,
   "id": "ce338d68-86a1-4e23-b1e4-0f8b7f8b210e",
   "metadata": {},
   "outputs": [
    {
     "name": "stdout",
     "output_type": "stream",
     "text": [
      "2 * 1 = 2\n",
      "2 * 2 = 4\n",
      "2 * 3 = 6\n",
      "2 * 4 = 8\n",
      "2 * 5 = 10\n",
      "2 * 6 = 12\n",
      "2 * 7 = 14\n",
      "2 * 8 = 16\n",
      "2 * 9 = 18\n",
      "2 * 10 = 20\n",
      "--------------\n",
      "3 * 1 = 3\n",
      "3 * 2 = 6\n",
      "3 * 3 = 9\n",
      "3 * 4 = 12\n",
      "3 * 5 = 15\n",
      "3 * 6 = 18\n",
      "3 * 7 = 21\n",
      "3 * 8 = 24\n",
      "3 * 9 = 27\n",
      "--------------\n",
      "4 * 1 = 4\n",
      "4 * 2 = 8\n",
      "4 * 3 = 12\n",
      "4 * 4 = 16\n",
      "4 * 5 = 20\n",
      "4 * 6 = 24\n",
      "4 * 7 = 28\n",
      "4 * 8 = 32\n",
      "--------------\n",
      "5 * 1 = 5\n",
      "5 * 2 = 10\n",
      "5 * 3 = 15\n",
      "5 * 4 = 20\n",
      "5 * 5 = 25\n",
      "5 * 6 = 30\n",
      "5 * 7 = 35\n",
      "--------------\n"
     ]
    }
   ],
   "source": [
    "times = 10\n",
    "for table in range(2,6):\n",
    "    for temp in range(times):\n",
    "        print (f\"{table} * {temp+1} = {table*(temp+1)}\")\n",
    "    print(f\"--------------\")  \n",
    "    times-=1"
   ]
  },
  {
   "cell_type": "code",
   "execution_count": 6,
   "id": "6d86040e-ae35-45ba-98ef-62979483e9f1",
   "metadata": {},
   "outputs": [
    {
     "name": "stdout",
     "output_type": "stream",
     "text": [
      "{'F_name': 'Ahsan', 'L_name': 'Rashid', 'age': 23, 'weight': 55, 'marital_Status': True}\n"
     ]
    }
   ],
   "source": [
    "bio_data = {\"F_name\":\"Ahsan\",\n",
    " \"L_name\" : \"Rashid\",\n",
    " \"age\" : 23,\n",
    " \"weight\":55,\n",
    " \"marital_Status\":True\n",
    "}\n",
    "print(bio_data)"
   ]
  },
  {
   "cell_type": "code",
   "execution_count": 7,
   "id": "37b18640-afa7-44c7-a4f7-d5cb4bc0709f",
   "metadata": {},
   "outputs": [],
   "source": [
    "bio_data [\"L_name\"] = \"Rashid Usman\""
   ]
  },
  {
   "cell_type": "code",
   "execution_count": 8,
   "id": "ea4b3af0-b0f8-4de3-94df-074c73f13fd2",
   "metadata": {},
   "outputs": [
    {
     "data": {
      "text/plain": [
       "{'F_name': 'Ahsan',\n",
       " 'L_name': 'Rashid Usman',\n",
       " 'age': 23,\n",
       " 'weight': 55,\n",
       " 'marital_Status': True}"
      ]
     },
     "execution_count": 8,
     "metadata": {},
     "output_type": "execute_result"
    }
   ],
   "source": [
    "bio_data"
   ]
  },
  {
   "cell_type": "code",
   "execution_count": 9,
   "id": "66134e9b-3467-45b1-ae5e-6716f9676fac",
   "metadata": {},
   "outputs": [
    {
     "data": {
      "text/plain": [
       "True"
      ]
     },
     "execution_count": 9,
     "metadata": {},
     "output_type": "execute_result"
    }
   ],
   "source": [
    "bio_data.pop(\"marital_Status\")"
   ]
  },
  {
   "cell_type": "code",
   "execution_count": 10,
   "id": "f5071c37-0bf3-4d49-8b9c-acde0a9f1967",
   "metadata": {},
   "outputs": [
    {
     "data": {
      "text/plain": [
       "{'F_name': 'Ahsan', 'L_name': 'Rashid Usman', 'age': 23, 'weight': 55}"
      ]
     },
     "execution_count": 10,
     "metadata": {},
     "output_type": "execute_result"
    }
   ],
   "source": [
    "bio_data"
   ]
  },
  {
   "cell_type": "code",
   "execution_count": 11,
   "id": "35e97b37-9f74-4245-9e72-14bfbf89e95d",
   "metadata": {},
   "outputs": [
    {
     "data": {
      "text/plain": [
       "('weight', 55)"
      ]
     },
     "execution_count": 11,
     "metadata": {},
     "output_type": "execute_result"
    }
   ],
   "source": [
    "bio_data.popitem()"
   ]
  },
  {
   "cell_type": "code",
   "execution_count": 12,
   "id": "f7327b06-19d9-41ea-a822-e05f31539608",
   "metadata": {},
   "outputs": [
    {
     "data": {
      "text/plain": [
       "{'F_name': 'Ahsan', 'L_name': 'Rashid Usman', 'age': 23}"
      ]
     },
     "execution_count": 12,
     "metadata": {},
     "output_type": "execute_result"
    }
   ],
   "source": [
    "bio_data"
   ]
  },
  {
   "cell_type": "code",
   "execution_count": 13,
   "id": "e9b0437f-5cb1-46e1-b42c-dc821a26c819",
   "metadata": {},
   "outputs": [
    {
     "data": {
      "text/plain": [
       "{'F_name': 'Ahsan', 'L_name': 'Rashid Usman', 'age': 23, 'f_name': 56}"
      ]
     },
     "execution_count": 13,
     "metadata": {},
     "output_type": "execute_result"
    }
   ],
   "source": [
    "bio_data.setdefault(\"f_name\",56)\n",
    "bio_data"
   ]
  },
  {
   "cell_type": "code",
   "execution_count": 14,
   "id": "16282b27-b1c3-44f5-931d-5774c5b9269f",
   "metadata": {},
   "outputs": [
    {
     "data": {
      "text/plain": [
       "{'F_name': 'Ahsan', 'L_name': 'Rashid Usman', 'age': 23, 'f_name': 56}"
      ]
     },
     "execution_count": 14,
     "metadata": {},
     "output_type": "execute_result"
    }
   ],
   "source": [
    "bio_data"
   ]
  },
  {
   "cell_type": "code",
   "execution_count": 15,
   "id": "0907f89a-6590-4f26-950a-678723148eca",
   "metadata": {},
   "outputs": [
    {
     "data": {
      "text/plain": [
       "{'F_name': 'Ahsan', 'L_name': 'Rashid Usman', 'age': 23, 'f_name': 56}"
      ]
     },
     "execution_count": 15,
     "metadata": {},
     "output_type": "execute_result"
    }
   ],
   "source": [
    "bio_data.setdefault(\"F_name\" , \"Usman\")\n",
    "bio_data"
   ]
  },
  {
   "cell_type": "code",
   "execution_count": 16,
   "id": "bf517636-2b4a-446e-94b7-9feb10cea6cf",
   "metadata": {},
   "outputs": [
    {
     "data": {
      "text/plain": [
       "<function dict.pop>"
      ]
     },
     "execution_count": 16,
     "metadata": {},
     "output_type": "execute_result"
    }
   ],
   "source": [
    "bio_data.pop"
   ]
  },
  {
   "cell_type": "code",
   "execution_count": 19,
   "id": "b5a9be14-791e-41b8-bae7-7b71e40d7db8",
   "metadata": {},
   "outputs": [
    {
     "data": {
      "text/plain": [
       "56"
      ]
     },
     "execution_count": 19,
     "metadata": {},
     "output_type": "execute_result"
    }
   ],
   "source": [
    "bio_data.pop('f_name')"
   ]
  },
  {
   "cell_type": "code",
   "execution_count": 20,
   "id": "ccef377a-44ba-4d2f-94be-b12ac57e4179",
   "metadata": {},
   "outputs": [
    {
     "data": {
      "text/plain": [
       "{'F_name': 'Ahsan', 'L_name': 'Rashid Usman', 'age': 23}"
      ]
     },
     "execution_count": 20,
     "metadata": {},
     "output_type": "execute_result"
    }
   ],
   "source": [
    "bio_data"
   ]
  },
  {
   "cell_type": "code",
   "execution_count": null,
   "id": "66687bc3-92ec-48e4-b221-d03bbb915141",
   "metadata": {},
   "outputs": [],
   "source": []
  }
 ],
 "metadata": {
  "kernelspec": {
   "display_name": "Python [conda env:base] *",
   "language": "python",
   "name": "conda-base-py"
  },
  "language_info": {
   "codemirror_mode": {
    "name": "ipython",
    "version": 3
   },
   "file_extension": ".py",
   "mimetype": "text/x-python",
   "name": "python",
   "nbconvert_exporter": "python",
   "pygments_lexer": "ipython3",
   "version": "3.13.5"
  }
 },
 "nbformat": 4,
 "nbformat_minor": 5
}
